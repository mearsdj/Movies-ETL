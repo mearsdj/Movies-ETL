{
 "cells": [
  {
   "cell_type": "code",
   "execution_count": 81,
   "outputs": [],
   "source": [
    "import json\n",
    "import pandas as pd\n",
    "import numpy as np\n",
    "import re"
   ],
   "metadata": {
    "collapsed": false,
    "pycharm": {
     "name": "#%%\n"
    }
   }
  },
  {
   "cell_type": "code",
   "execution_count": 2,
   "outputs": [],
   "source": [
    "file_dir = 'C:/Users/Derek/Documents/Bootcamp/Module 8/MOVIES-ETL/'"
   ],
   "metadata": {
    "collapsed": false,
    "pycharm": {
     "name": "#%%\n"
    }
   }
  },
  {
   "cell_type": "code",
   "execution_count": 3,
   "outputs": [
    {
     "data": {
      "text/plain": "'C:/Users/Derek/Documents/Bootcamp/Module 8/MOVIES-ETL/filename'"
     },
     "execution_count": 3,
     "metadata": {},
     "output_type": "execute_result"
    }
   ],
   "source": [
    "f'{file_dir}filename'"
   ],
   "metadata": {
    "collapsed": false,
    "pycharm": {
     "name": "#%%\n"
    }
   }
  },
  {
   "cell_type": "code",
   "execution_count": 4,
   "outputs": [],
   "source": [
    "with open(f'{file_dir}wikipedia-movies.json', mode='r') as file:\n",
    "    wiki_movies_raw = json.load(file)"
   ],
   "metadata": {
    "collapsed": false,
    "pycharm": {
     "name": "#%%\n"
    }
   }
  },
  {
   "cell_type": "code",
   "execution_count": 5,
   "outputs": [
    {
     "data": {
      "text/plain": "7311"
     },
     "execution_count": 5,
     "metadata": {},
     "output_type": "execute_result"
    }
   ],
   "source": [
    "len(wiki_movies_raw)"
   ],
   "metadata": {
    "collapsed": false,
    "pycharm": {
     "name": "#%%\n"
    }
   }
  },
  {
   "cell_type": "code",
   "execution_count": 6,
   "outputs": [
    {
     "data": {
      "text/plain": "[{'url': 'https://en.wikipedia.org/wiki/The_Adventures_of_Ford_Fairlane',\n  'year': 1990,\n  'imdb_link': 'https://www.imdb.com/title/tt0098987/',\n  'title': 'The Adventures of Ford Fairlane',\n  'Directed by': 'Renny Harlin',\n  'Produced by': ['Steve Perry', 'Joel Silver'],\n  'Screenplay by': ['David Arnott', 'James Cappe', 'Daniel Waters'],\n  'Story by': ['David Arnott', 'James Cappe'],\n  'Based on': ['Characters', 'by Rex Weiner'],\n  'Starring': ['Andrew Dice Clay',\n   'Wayne Newton',\n   'Priscilla Presley',\n   'Lauren Holly',\n   'Morris Day',\n   'Robert Englund',\n   \"Ed O'Neill\"],\n  'Narrated by': 'Andrew \"Dice\" Clay',\n  'Music by': ['Cliff Eidelman', 'Yello'],\n  'Cinematography': 'Oliver Wood',\n  'Edited by': 'Michael Tronick',\n  'Productioncompany ': 'Silver Pictures',\n  'Distributed by': '20th Century Fox',\n  'Release date': ['July 11, 1990', '(', '1990-07-11', ')'],\n  'Running time': '102 minutes',\n  'Country': 'United States',\n  'Language': 'English',\n  'Budget': '$20 million',\n  'Box office': '$21.4 million'},\n {'url': 'https://en.wikipedia.org/wiki/After_Dark,_My_Sweet',\n  'year': 1990,\n  'imdb_link': 'https://www.imdb.com/title/tt0098994/',\n  'title': 'After Dark, My Sweet',\n  'Directed by': 'James Foley',\n  'Produced by': ['Ric Kidney', 'Robert Redlin'],\n  'Screenplay by': ['James Foley', 'Robert Redlin'],\n  'Based on': ['the novel', 'After Dark, My Sweet', 'by', 'Jim Thompson'],\n  'Starring': ['Jason Patric',\n   'Rachel Ward',\n   'Bruce Dern',\n   'George Dickerson'],\n  'Music by': 'Maurice Jarre',\n  'Cinematography': 'Mark Plummer',\n  'Edited by': 'Howard E. Smith',\n  'Productioncompany ': 'Avenue Pictures',\n  'Distributed by': 'Avenue Pictures',\n  'Release date': ['May 17, 1990',\n   '(',\n   '1990-05-17',\n   ')',\n   '(Cannes Film Market)',\n   'August 24, 1990',\n   '(',\n   '1990-08-24',\n   ')',\n   '(United States)'],\n  'Running time': '114 minutes',\n  'Country': 'United States',\n  'Language': 'English',\n  'Budget': '$6 million',\n  'Box office': '$2.7 million'},\n {'url': 'https://en.wikipedia.org/wiki/Air_America_(film)',\n  'year': 1990,\n  'imdb_link': 'https://www.imdb.com/title/tt0099005/',\n  'title': 'Air America',\n  'Directed by': 'Roger Spottiswoode',\n  'Produced by': 'Daniel Melnick',\n  'Screenplay by': ['John Eskow', 'Richard Rush'],\n  'Based on': ['Air America', 'by', 'Christopher Robbins'],\n  'Starring': ['Mel Gibson',\n   'Robert Downey Jr.',\n   'Nancy Travis',\n   'David Marshall Grant',\n   'Lane Smith'],\n  'Music by': 'Charles Gross',\n  'Cinematography': 'Roger Deakins',\n  'Edited by': ['John Bloom', 'Lois Freeman-Fox'],\n  'Productioncompany ': ['Carolco Pictures', 'IndieProd Company'],\n  'Distributed by': 'TriStar Pictures',\n  'Release date': ['August 10, 1990', '(', '1990-08-10', ')'],\n  'Running time': '113 minutes',\n  'Country': 'United States',\n  'Language': ['English', 'Lao'],\n  'Budget': '$35 million',\n  'Box office': '$57,718,089'},\n {'url': 'https://en.wikipedia.org/wiki/Alice_(1990_film)',\n  'year': 1990,\n  'imdb_link': 'https://www.imdb.com/title/tt0099012/',\n  'title': 'Alice',\n  'Directed by': 'Woody Allen',\n  'Produced by': 'Robert Greenhut',\n  'Written by': 'Woody Allen',\n  'Starring': ['Alec Baldwin',\n   'Blythe Danner',\n   'Judy Davis',\n   'Mia Farrow',\n   'William Hurt',\n   'Keye Luke',\n   'Joe Mantegna',\n   'Bernadette Peters'],\n  'Cinematography': 'Carlo Di Palma',\n  'Edited by': 'Susan E. Morse',\n  'Distributed by': 'Orion Pictures',\n  'Release date': ['December 25, 1990', '(', '1990-12-25', ')'],\n  'Running time': '106 minutes',\n  'Country': 'United States',\n  'Language': 'English',\n  'Budget': '$12 million',\n  'Box office': '$7,331,647'},\n {'url': 'https://en.wikipedia.org/wiki/Almost_an_Angel',\n  'year': 1990,\n  'imdb_link': 'https://www.imdb.com/title/tt0099018/',\n  'title': 'Almost an Angel',\n  'Directed by': 'John Cornell',\n  'Produced by': 'John Cornell',\n  'Written by': 'Paul Hogan',\n  'Starring': ['Paul Hogan', 'Elias Koteas', 'Linda Kozlowski'],\n  'Music by': 'Maurice Jarre',\n  'Cinematography': 'Russell Boyd',\n  'Edited by': 'David Stiven',\n  'Distributed by': 'Paramount Pictures',\n  'Release date': 'December 19, 1990',\n  'Running time': '95 minutes',\n  'Country': 'US',\n  'Language': 'English',\n  'Budget': '$25 million',\n  'Box office': '$6,939,946 (USA)'}]"
     },
     "execution_count": 6,
     "metadata": {},
     "output_type": "execute_result"
    }
   ],
   "source": [
    "#first 5 records\n",
    "wiki_movies_raw[:5]"
   ],
   "metadata": {
    "collapsed": false,
    "pycharm": {
     "name": "#%%\n"
    }
   }
  },
  {
   "cell_type": "code",
   "execution_count": 7,
   "outputs": [
    {
     "data": {
      "text/plain": "[{'url': 'https://en.wikipedia.org/wiki/Holmes_%26_Watson',\n  'year': 2018,\n  'imdb_link': 'https://www.imdb.com/title/tt1255919/',\n  'title': 'Holmes & Watson',\n  'Directed by': 'Etan Cohen',\n  'Produced by': ['Will Ferrell',\n   'Adam McKay',\n   'Jimmy Miller',\n   'Clayton Townsend'],\n  'Screenplay by': 'Etan Cohen',\n  'Based on': ['Sherlock Holmes',\n   'and',\n   'Dr. Watson',\n   'by',\n   'Sir Arthur Conan Doyle'],\n  'Starring': ['Will Ferrell',\n   'John C. Reilly',\n   'Rebecca Hall',\n   'Rob Brydon',\n   'Steve Coogan',\n   'Ralph Fiennes'],\n  'Music by': 'Mark Mothersbaugh',\n  'Cinematography': 'Oliver Wood',\n  'Edited by': 'Dean Zimmerman',\n  'Productioncompanies ': ['Columbia Pictures',\n   'Gary Sanchez Productions',\n   'Mosaic Media Group',\n   'Mimran Schur Pictures'],\n  'Distributed by': 'Sony Pictures Releasing',\n  'Release date': ['December 25, 2018',\n   '(',\n   '2018-12-25',\n   ')',\n   '(United States)'],\n  'Running time': '90 minutes',\n  'Country': 'United States',\n  'Language': 'English',\n  'Budget': '$42 million',\n  'Box office': '$41.9 million'},\n {'url': 'https://en.wikipedia.org/wiki/Vice_(2018_film)',\n  'year': 2018,\n  'imdb_link': 'https://www.imdb.com/title/tt6266538/',\n  'title': 'Vice',\n  'Directed by': 'Adam McKay',\n  'Produced by': ['Brad Pitt',\n   'Dede Gardner',\n   'Jeremy Kleiner',\n   'Kevin J. Messick',\n   'Will Ferrell',\n   'Adam McKay'],\n  'Written by': 'Adam McKay',\n  'Starring': ['Christian Bale',\n   'Amy Adams',\n   'Steve Carell',\n   'Sam Rockwell',\n   'Tyler Perry',\n   'Alison Pill',\n   'Lily Rabe',\n   'Jesse Plemons'],\n  'Music by': 'Nicholas Britell',\n  'Cinematography': 'Greig Fraser',\n  'Edited by': 'Hank Corwin',\n  'Productioncompany ': ['Plan B Entertainment',\n   'Gary Sanchez Productions',\n   'Annapurna Pictures'],\n  'Distributed by': 'Mirror Releasing',\n  'Release date': ['December 11, 2018',\n   '(',\n   '2018-12-11',\n   ')',\n   '(',\n   'Samuel Goldwyn Theater',\n   ')',\n   'December 25, 2018',\n   '(',\n   '2018-12-25',\n   ')',\n   '(United States)'],\n  'Running time': '132 minutes',\n  'Country': 'United States',\n  'Language': 'English',\n  'Budget': '$60 million',\n  'Box office': '$76.1 million'},\n {'url': 'https://en.wikipedia.org/wiki/On_the_Basis_of_Sex',\n  'year': 2018,\n  'imdb_link': 'https://www.imdb.com/title/tt4669788/',\n  'title': 'On the Basis of Sex',\n  'Directed by': 'Mimi Leder',\n  'Produced by': 'Robert W. Cort',\n  'Written by': 'Daniel Stiepleman',\n  'Starring': ['Felicity Jones',\n   'Armie Hammer',\n   'Justin Theroux',\n   'Sam Waterston',\n   'Kathy Bates'],\n  'Music by': 'Mychael Danna',\n  'Cinematography': 'Michael Grady',\n  'Edited by': 'Michelle Tesoro',\n  'Productioncompanies ': ['Focus Features',\n   '[1]',\n   'Participant Media',\n   '[1]',\n   'Robert Cort Productions',\n   '[1]',\n   'Alibaba Pictures',\n   '[2]'],\n  'Distributed by': 'Focus Features',\n  'Release date': ['November 8, 2018',\n   '(',\n   '2018-11-08',\n   ')',\n   '(',\n   'AFI Fest',\n   ')',\n   'December 25, 2018',\n   '(',\n   '2018-12-25',\n   ')',\n   '(United States)'],\n  'Running time': '120 minutes',\n  'Country': 'United States',\n  'Language': 'English',\n  'Budget': '$20 million',\n  'Box office': '$38.4 million'},\n {'url': 'https://en.wikipedia.org/wiki/Destroyer_(2018_film)',\n  'year': 2018,\n  'imdb_link': 'https://www.imdb.com/title/tt7137380/',\n  'title': 'Destroyer',\n  'Directed by': 'Karyn Kusama',\n  'Produced by': ['Fred Berger', 'Phil Hay', 'Matt Manfredi'],\n  'Written by': ['Phil Hay', 'Matt Manfredi'],\n  'Starring': ['Nicole Kidman',\n   'Sebastian Stan',\n   'Toby Kebbell',\n   'Tatiana Maslany',\n   'Bradley Whitford',\n   'Jade Pettyjohn',\n   'Scoot McNairy'],\n  'Music by': 'Theodore Shapiro',\n  'Cinematography': 'Julie Kirkwood',\n  'Edited by': 'Plummy Tucker',\n  'Productioncompany ': ['30West',\n   'Automatik Entertainment',\n   'Annapurna Pictures'],\n  'Distributed by': 'Mirror Releasing',\n  'Release date': ['August 31, 2018',\n   '(',\n   '2018-08-31',\n   ')',\n   '(',\n   'Telluride',\n   ')',\n   'December 25, 2018',\n   '(',\n   '2018-12-25',\n   ')',\n   '(United States)'],\n  'Running time': '123 minutes',\n  'Country': 'United States',\n  'Language': 'English',\n  'Budget': '$9 million',\n  'Box office': '$5.5 million'},\n {'url': 'https://en.wikipedia.org/wiki/Black_Mirror:_Bandersnatch',\n  'year': 2018,\n  'imdb_link': 'https://www.imdb.com/title/tt9495224/',\n  'title': 'Bandersnatch',\n  'Directed by': 'David Slade',\n  'Produced by': 'Russell McLean',\n  'Written by': 'Charlie Brooker',\n  'Starring': ['Fionn Whitehead',\n   'Will Poulter',\n   'Craig Parkinson',\n   'Alice Lowe',\n   'Asim Chaudhry'],\n  'Music by': 'Brian Reitzell',\n  'Cinematography': ['Aaron Morton', 'Jake Polonsky'],\n  'Edited by': 'Tony Kearns',\n  'Productioncompany ': ['House of Tomorrow', 'Netflix'],\n  'Distributed by': 'Netflix',\n  'Release date': ['28 December 2018', '(', '2018-12-28', ')'],\n  'Running time': 'Variable; 90 minutes for default path',\n  'Country': 'United Kingdom',\n  'Language': 'English'}]"
     },
     "execution_count": 7,
     "metadata": {},
     "output_type": "execute_result"
    }
   ],
   "source": [
    "# last 5 records\n",
    "wiki_movies_raw[-5:]"
   ],
   "metadata": {
    "collapsed": false,
    "pycharm": {
     "name": "#%%\n"
    }
   }
  },
  {
   "cell_type": "code",
   "execution_count": 8,
   "outputs": [
    {
     "data": {
      "text/plain": "[{'url': 'https://en.wikipedia.org/wiki/Benji:_Off_the_Leash!',\n  'year': 2004,\n  'imdb_link': 'https://www.imdb.com/title/tt0315273/',\n  'title': 'Benji: Off the Leash!',\n  'Directed by': 'Joe Camp',\n  'Written by': 'Joe Camp',\n  'Starring': ['Benji', 'Nick Whitaker', 'Shaggy', 'Gypsy the Cockatoo'],\n  'Music by': 'Antonio di Lorenzo',\n  'Productioncompany ': 'Mulberry Square Productions',\n  'Distributed by': 'Mulberry Square Productions',\n  'Release date': ['March 26, 2004', '(', '2004-03-26', ')'],\n  'Running time': '97 min',\n  'Country': 'United States',\n  'Language': 'English',\n  'Box office': '$3,817,362'},\n {'url': 'https://en.wikipedia.org/wiki/The_Best_Thief_in_the_World',\n  'year': 2004,\n  'imdb_link': 'https://www.imdb.com/title/tt0389796/',\n  'title': 'The Best Thief in the World',\n  'Directed by': 'Jacob Kornbluth',\n  'Produced by': ['Tim Perrell', 'Nicola Usborne'],\n  'Written by': 'Jacob Kornbluth',\n  'Starring': ['Marc Rozendaal',\n   'Michael Silverman',\n   'David Warshofsky',\n   'Audra McDonald',\n   'Lois Smith'],\n  'Music by': ['Prince Paul', 'and', 'Don Newkirk'],\n  'Cinematography': 'Ben Kutchins',\n  'Edited by': 'Stephanie Sterner',\n  'Distributed by': 'Showtime Networks',\n  'Release date': ['January 16, 2004', '(', '2004-01-16', ')'],\n  'Running time': '93 minutes',\n  'Country': 'United States',\n  'Language': 'English'},\n {'url': 'https://en.wikipedia.org/wiki/Beyond_the_Sea_(2004_film)',\n  'year': 2004,\n  'imdb_link': 'https://www.imdb.com/title/tt0363473/',\n  'title': 'Beyond the Sea',\n  'Directed by': 'Kevin Spacey',\n  'Produced by': ['Kevin Spacey',\n   'Phillip Barry',\n   'Dana Brunetti',\n   'Arthur Friedman',\n   'Jan Fantl',\n   'Andy Paterson'],\n  'Written by': ['Lewis Colick', 'Kevin Spacey'],\n  'Starring': ['Kevin Spacey', 'Kate Bosworth', 'Bob Hoskins', 'John Goodman'],\n  'Music by': 'Bobby Darin',\n  'Cinematography': 'Eduardo Serra',\n  'Edited by': 'Trevor Waite',\n  'Productioncompany ': 'Trigger Street Productions',\n  'Distributed by': ['Lionsgate Films',\n   '(USA)',\n   'Entertainment Film Distributors',\n   '(UK)',\n   'GAGA',\n   '(Japan)',\n   'Maple Pictures',\n   '(Canada)'],\n  'Release date': ['December 17, 2004', '(', '2004-12-17', ')'],\n  'Running time': '118 minutes',\n  'Country': 'United States',\n  'Language': 'English',\n  'Budget': '$25 million',\n  'Box office': '$8.4 million'},\n {'url': 'https://en.wikipedia.org/wiki/The_Big_Bounce_(2004_film)',\n  'year': 2004,\n  'imdb_link': 'https://www.imdb.com/title/tt0315824/',\n  'title': 'The Big Bounce',\n  'Directed by': 'George Armitage',\n  'Produced by': ['George Armitage', 'Steve Bing'],\n  'Screenplay by': 'Sebastian Gutierrez',\n  'Based on': ['The Big Bounce', 'by', 'Elmore Leonard'],\n  'Starring': ['Owen Wilson',\n   'Charlie Sheen',\n   'Morgan Freeman',\n   'Sara Foster',\n   'Gary Sinise'],\n  'Music by': 'George S. Clinton',\n  'Cinematography': 'Jeffrey L. Kimball',\n  'Edited by': 'Barry Malkin',\n  'Productioncompany ': 'Shangri-La Entertainment',\n  'Distributed by': 'Warner Bros. Pictures',\n  'Release date': ['January 30, 2004', '(', '2004-01-30', ')'],\n  'Running time': '88 minutes',\n  'Language': 'English',\n  'Budget': '$50 million',\n  'Box office': '$6.8 million'},\n {'url': 'https://en.wikipedia.org/wiki/Birth_(film)',\n  'year': 2004,\n  'imdb_link': 'https://www.imdb.com/title/tt0337876/',\n  'title': 'Birth',\n  'Directed by': 'Jonathan Glazer',\n  'Produced by': ['Lizie Gower', 'Nick Morris', 'Jean-Louis Piel'],\n  'Written by': ['Jean-Claude Carrière', 'Milo Addica', 'Jonathan Glazer'],\n  'Starring': ['Nicole Kidman',\n   'Cameron Bright',\n   'Danny Huston',\n   'Lauren Bacall'],\n  'Music by': 'Alexandre Desplat',\n  'Cinematography': 'Harris Savides',\n  'Edited by': ['Sam Sneade', 'Claus Wehlisch'],\n  'Distributed by': 'New Line Cinema',\n  'Release date': ['November 8, 2004', '(', '2004-11-08', ')'],\n  'Running time': '96 minutes',\n  'Country': 'United States',\n  'Language': 'English',\n  'Budget': '$20 million',\n  'Box office': '$23.9 million'}]"
     },
     "execution_count": 8,
     "metadata": {},
     "output_type": "execute_result"
    }
   ],
   "source": [
    "#records in middle:\n",
    "wiki_movies_raw[3600:3605]"
   ],
   "metadata": {
    "collapsed": false,
    "pycharm": {
     "name": "#%%\n"
    }
   }
  },
  {
   "cell_type": "code",
   "execution_count": 9,
   "outputs": [],
   "source": [
    "kaggle_metadata = pd.read_csv(f'{file_dir}Resources/movies_metadata.csv', low_memory=False)\n",
    "ratings = pd.read_csv(f'{file_dir}Resources/ratings.csv')"
   ],
   "metadata": {
    "collapsed": false,
    "pycharm": {
     "name": "#%%\n"
    }
   }
  },
  {
   "cell_type": "code",
   "execution_count": null,
   "outputs": [],
   "source": [
    "pd.concat([kaggle_metadata.head(),kaggle_metadata.tail(),kaggle_metadata.sample(n=5)])"
   ],
   "metadata": {
    "collapsed": false,
    "pycharm": {
     "name": "#%%\n"
    }
   }
  },
  {
   "cell_type": "code",
   "execution_count": 14,
   "outputs": [
    {
     "data": {
      "text/plain": "          userId  movieId  rating   timestamp\n0              1      110     1.0  1425941529\n1              1      147     4.5  1425942435\n2              1      858     5.0  1425941523\n3              1     1221     5.0  1425941546\n4              1     1246     5.0  1425941556\n26024284  270896    58559     5.0  1257031564\n26024285  270896    60069     5.0  1257032032\n26024286  270896    63082     4.5  1257031764\n26024287  270896    64957     4.5  1257033990\n26024288  270896    71878     2.0  1257031858\n23374938  242675      175     4.0  1285062177\n21482906  223157    86898     2.0  1445631157\n2368730    24525     1073     2.0  1148994142\n17533462  181937     4018     3.0  1059867022\n16566470  172240     1280     4.0   888090414",
      "text/html": "<div>\n<style scoped>\n    .dataframe tbody tr th:only-of-type {\n        vertical-align: middle;\n    }\n\n    .dataframe tbody tr th {\n        vertical-align: top;\n    }\n\n    .dataframe thead th {\n        text-align: right;\n    }\n</style>\n<table border=\"1\" class=\"dataframe\">\n  <thead>\n    <tr style=\"text-align: right;\">\n      <th></th>\n      <th>userId</th>\n      <th>movieId</th>\n      <th>rating</th>\n      <th>timestamp</th>\n    </tr>\n  </thead>\n  <tbody>\n    <tr>\n      <th>0</th>\n      <td>1</td>\n      <td>110</td>\n      <td>1.0</td>\n      <td>1425941529</td>\n    </tr>\n    <tr>\n      <th>1</th>\n      <td>1</td>\n      <td>147</td>\n      <td>4.5</td>\n      <td>1425942435</td>\n    </tr>\n    <tr>\n      <th>2</th>\n      <td>1</td>\n      <td>858</td>\n      <td>5.0</td>\n      <td>1425941523</td>\n    </tr>\n    <tr>\n      <th>3</th>\n      <td>1</td>\n      <td>1221</td>\n      <td>5.0</td>\n      <td>1425941546</td>\n    </tr>\n    <tr>\n      <th>4</th>\n      <td>1</td>\n      <td>1246</td>\n      <td>5.0</td>\n      <td>1425941556</td>\n    </tr>\n    <tr>\n      <th>26024284</th>\n      <td>270896</td>\n      <td>58559</td>\n      <td>5.0</td>\n      <td>1257031564</td>\n    </tr>\n    <tr>\n      <th>26024285</th>\n      <td>270896</td>\n      <td>60069</td>\n      <td>5.0</td>\n      <td>1257032032</td>\n    </tr>\n    <tr>\n      <th>26024286</th>\n      <td>270896</td>\n      <td>63082</td>\n      <td>4.5</td>\n      <td>1257031764</td>\n    </tr>\n    <tr>\n      <th>26024287</th>\n      <td>270896</td>\n      <td>64957</td>\n      <td>4.5</td>\n      <td>1257033990</td>\n    </tr>\n    <tr>\n      <th>26024288</th>\n      <td>270896</td>\n      <td>71878</td>\n      <td>2.0</td>\n      <td>1257031858</td>\n    </tr>\n    <tr>\n      <th>23374938</th>\n      <td>242675</td>\n      <td>175</td>\n      <td>4.0</td>\n      <td>1285062177</td>\n    </tr>\n    <tr>\n      <th>21482906</th>\n      <td>223157</td>\n      <td>86898</td>\n      <td>2.0</td>\n      <td>1445631157</td>\n    </tr>\n    <tr>\n      <th>2368730</th>\n      <td>24525</td>\n      <td>1073</td>\n      <td>2.0</td>\n      <td>1148994142</td>\n    </tr>\n    <tr>\n      <th>17533462</th>\n      <td>181937</td>\n      <td>4018</td>\n      <td>3.0</td>\n      <td>1059867022</td>\n    </tr>\n    <tr>\n      <th>16566470</th>\n      <td>172240</td>\n      <td>1280</td>\n      <td>4.0</td>\n      <td>888090414</td>\n    </tr>\n  </tbody>\n</table>\n</div>"
     },
     "execution_count": 14,
     "metadata": {},
     "output_type": "execute_result"
    }
   ],
   "source": [
    "pd.concat([ratings.head(),ratings.tail(),ratings.sample(n=5)])"
   ],
   "metadata": {
    "collapsed": false,
    "pycharm": {
     "name": "#%%\n"
    }
   }
  },
  {
   "cell_type": "code",
   "execution_count": 16,
   "outputs": [],
   "source": [
    "wiki_movies_df = pd.DataFrame(wiki_movies_raw)"
   ],
   "metadata": {
    "collapsed": false,
    "pycharm": {
     "name": "#%%\n"
    }
   }
  },
  {
   "cell_type": "code",
   "execution_count": 17,
   "outputs": [
    {
     "data": {
      "text/plain": "                                                 url    year  \\\n0  https://en.wikipedia.org/wiki/The_Adventures_o...  1990.0   \n1  https://en.wikipedia.org/wiki/After_Dark,_My_S...  1990.0   \n2   https://en.wikipedia.org/wiki/Air_America_(film)  1990.0   \n3    https://en.wikipedia.org/wiki/Alice_(1990_film)  1990.0   \n4      https://en.wikipedia.org/wiki/Almost_an_Angel  1990.0   \n\n                               imdb_link                            title  \\\n0  https://www.imdb.com/title/tt0098987/  The Adventures of Ford Fairlane   \n1  https://www.imdb.com/title/tt0098994/             After Dark, My Sweet   \n2  https://www.imdb.com/title/tt0099005/                      Air America   \n3  https://www.imdb.com/title/tt0099012/                            Alice   \n4  https://www.imdb.com/title/tt0099018/                  Almost an Angel   \n\n          Directed by                  Produced by  \\\n0        Renny Harlin   [Steve Perry, Joel Silver]   \n1         James Foley  [Ric Kidney, Robert Redlin]   \n2  Roger Spottiswoode               Daniel Melnick   \n3         Woody Allen              Robert Greenhut   \n4        John Cornell                 John Cornell   \n\n                                Screenplay by                     Story by  \\\n0  [David Arnott, James Cappe, Daniel Waters]  [David Arnott, James Cappe]   \n1                [James Foley, Robert Redlin]                          NaN   \n2                  [John Eskow, Richard Rush]                          NaN   \n3                                         NaN                          NaN   \n4                                         NaN                          NaN   \n\n                                            Based on  \\\n0                        [Characters, by Rex Weiner]   \n1  [the novel, After Dark, My Sweet, by, Jim Thom...   \n2             [Air America, by, Christopher Robbins]   \n3                                                NaN   \n4                                                NaN   \n\n                                            Starring  ... Predecessor  \\\n0  [Andrew Dice Clay, Wayne Newton, Priscilla Pre...  ...         NaN   \n1  [Jason Patric, Rachel Ward, Bruce Dern, George...  ...         NaN   \n2  [Mel Gibson, Robert Downey Jr., Nancy Travis, ...  ...         NaN   \n3  [Alec Baldwin, Blythe Danner, Judy Davis, Mia ...  ...         NaN   \n4        [Paul Hogan, Elias Koteas, Linda Kozlowski]  ...         NaN   \n\n  Founders Area served Products Services Russian Hebrew Revenue  \\\n0      NaN         NaN      NaN      NaN     NaN    NaN     NaN   \n1      NaN         NaN      NaN      NaN     NaN    NaN     NaN   \n2      NaN         NaN      NaN      NaN     NaN    NaN     NaN   \n3      NaN         NaN      NaN      NaN     NaN    NaN     NaN   \n4      NaN         NaN      NaN      NaN     NaN    NaN     NaN   \n\n  Operating income Polish  \n0              NaN    NaN  \n1              NaN    NaN  \n2              NaN    NaN  \n3              NaN    NaN  \n4              NaN    NaN  \n\n[5 rows x 193 columns]",
      "text/html": "<div>\n<style scoped>\n    .dataframe tbody tr th:only-of-type {\n        vertical-align: middle;\n    }\n\n    .dataframe tbody tr th {\n        vertical-align: top;\n    }\n\n    .dataframe thead th {\n        text-align: right;\n    }\n</style>\n<table border=\"1\" class=\"dataframe\">\n  <thead>\n    <tr style=\"text-align: right;\">\n      <th></th>\n      <th>url</th>\n      <th>year</th>\n      <th>imdb_link</th>\n      <th>title</th>\n      <th>Directed by</th>\n      <th>Produced by</th>\n      <th>Screenplay by</th>\n      <th>Story by</th>\n      <th>Based on</th>\n      <th>Starring</th>\n      <th>...</th>\n      <th>Predecessor</th>\n      <th>Founders</th>\n      <th>Area served</th>\n      <th>Products</th>\n      <th>Services</th>\n      <th>Russian</th>\n      <th>Hebrew</th>\n      <th>Revenue</th>\n      <th>Operating income</th>\n      <th>Polish</th>\n    </tr>\n  </thead>\n  <tbody>\n    <tr>\n      <th>0</th>\n      <td>https://en.wikipedia.org/wiki/The_Adventures_o...</td>\n      <td>1990.0</td>\n      <td>https://www.imdb.com/title/tt0098987/</td>\n      <td>The Adventures of Ford Fairlane</td>\n      <td>Renny Harlin</td>\n      <td>[Steve Perry, Joel Silver]</td>\n      <td>[David Arnott, James Cappe, Daniel Waters]</td>\n      <td>[David Arnott, James Cappe]</td>\n      <td>[Characters, by Rex Weiner]</td>\n      <td>[Andrew Dice Clay, Wayne Newton, Priscilla Pre...</td>\n      <td>...</td>\n      <td>NaN</td>\n      <td>NaN</td>\n      <td>NaN</td>\n      <td>NaN</td>\n      <td>NaN</td>\n      <td>NaN</td>\n      <td>NaN</td>\n      <td>NaN</td>\n      <td>NaN</td>\n      <td>NaN</td>\n    </tr>\n    <tr>\n      <th>1</th>\n      <td>https://en.wikipedia.org/wiki/After_Dark,_My_S...</td>\n      <td>1990.0</td>\n      <td>https://www.imdb.com/title/tt0098994/</td>\n      <td>After Dark, My Sweet</td>\n      <td>James Foley</td>\n      <td>[Ric Kidney, Robert Redlin]</td>\n      <td>[James Foley, Robert Redlin]</td>\n      <td>NaN</td>\n      <td>[the novel, After Dark, My Sweet, by, Jim Thom...</td>\n      <td>[Jason Patric, Rachel Ward, Bruce Dern, George...</td>\n      <td>...</td>\n      <td>NaN</td>\n      <td>NaN</td>\n      <td>NaN</td>\n      <td>NaN</td>\n      <td>NaN</td>\n      <td>NaN</td>\n      <td>NaN</td>\n      <td>NaN</td>\n      <td>NaN</td>\n      <td>NaN</td>\n    </tr>\n    <tr>\n      <th>2</th>\n      <td>https://en.wikipedia.org/wiki/Air_America_(film)</td>\n      <td>1990.0</td>\n      <td>https://www.imdb.com/title/tt0099005/</td>\n      <td>Air America</td>\n      <td>Roger Spottiswoode</td>\n      <td>Daniel Melnick</td>\n      <td>[John Eskow, Richard Rush]</td>\n      <td>NaN</td>\n      <td>[Air America, by, Christopher Robbins]</td>\n      <td>[Mel Gibson, Robert Downey Jr., Nancy Travis, ...</td>\n      <td>...</td>\n      <td>NaN</td>\n      <td>NaN</td>\n      <td>NaN</td>\n      <td>NaN</td>\n      <td>NaN</td>\n      <td>NaN</td>\n      <td>NaN</td>\n      <td>NaN</td>\n      <td>NaN</td>\n      <td>NaN</td>\n    </tr>\n    <tr>\n      <th>3</th>\n      <td>https://en.wikipedia.org/wiki/Alice_(1990_film)</td>\n      <td>1990.0</td>\n      <td>https://www.imdb.com/title/tt0099012/</td>\n      <td>Alice</td>\n      <td>Woody Allen</td>\n      <td>Robert Greenhut</td>\n      <td>NaN</td>\n      <td>NaN</td>\n      <td>NaN</td>\n      <td>[Alec Baldwin, Blythe Danner, Judy Davis, Mia ...</td>\n      <td>...</td>\n      <td>NaN</td>\n      <td>NaN</td>\n      <td>NaN</td>\n      <td>NaN</td>\n      <td>NaN</td>\n      <td>NaN</td>\n      <td>NaN</td>\n      <td>NaN</td>\n      <td>NaN</td>\n      <td>NaN</td>\n    </tr>\n    <tr>\n      <th>4</th>\n      <td>https://en.wikipedia.org/wiki/Almost_an_Angel</td>\n      <td>1990.0</td>\n      <td>https://www.imdb.com/title/tt0099018/</td>\n      <td>Almost an Angel</td>\n      <td>John Cornell</td>\n      <td>John Cornell</td>\n      <td>NaN</td>\n      <td>NaN</td>\n      <td>NaN</td>\n      <td>[Paul Hogan, Elias Koteas, Linda Kozlowski]</td>\n      <td>...</td>\n      <td>NaN</td>\n      <td>NaN</td>\n      <td>NaN</td>\n      <td>NaN</td>\n      <td>NaN</td>\n      <td>NaN</td>\n      <td>NaN</td>\n      <td>NaN</td>\n      <td>NaN</td>\n      <td>NaN</td>\n    </tr>\n  </tbody>\n</table>\n<p>5 rows × 193 columns</p>\n</div>"
     },
     "execution_count": 17,
     "metadata": {},
     "output_type": "execute_result"
    }
   ],
   "source": [
    "wiki_movies_df.head()"
   ],
   "metadata": {
    "collapsed": false,
    "pycharm": {
     "name": "#%%\n"
    }
   }
  },
  {
   "cell_type": "code",
   "execution_count": 18,
   "outputs": [
    {
     "data": {
      "text/plain": "['url',\n 'year',\n 'imdb_link',\n 'title',\n 'Directed by',\n 'Produced by',\n 'Screenplay by',\n 'Story by',\n 'Based on',\n 'Starring',\n 'Narrated by',\n 'Music by',\n 'Cinematography',\n 'Edited by',\n 'Productioncompany ',\n 'Distributed by',\n 'Release date',\n 'Running time',\n 'Country',\n 'Language',\n 'Budget',\n 'Box office',\n 'Written by',\n 'Genre',\n 'Theme music composer',\n 'Country of origin',\n 'Original language(s)',\n 'Producer(s)',\n 'Editor(s)',\n 'Production company(s)',\n 'Original network',\n 'Original release',\n 'Productioncompanies ',\n 'Executive producer(s)',\n 'Production location(s)',\n 'Distributor',\n 'Picture format',\n 'Audio format',\n 'Voices of',\n 'Followed by',\n 'Composer(s)',\n 'Created by',\n 'Also known as',\n 'Opening theme',\n 'No. of episodes',\n 'Preceded by',\n 'Author',\n 'Publisher',\n 'Publication date',\n 'Media type',\n 'Pages',\n 'ISBN',\n 'OCLC',\n 'LC Class',\n 'Cover artist',\n 'Series',\n 'Set in',\n 'Adaptation by',\n 'Suggested by',\n 'Biographical data',\n 'Born',\n 'Died',\n 'Resting place',\n 'Occupation',\n 'Years active',\n 'Spouse(s)',\n 'Children',\n 'Parent(s)',\n 'Genres',\n 'Instruments',\n 'Labels',\n 'Website',\n 'Traditional',\n 'Mandarin',\n 'Type',\n 'Industry',\n 'Fate',\n 'Founded',\n 'Founder',\n 'Headquarters',\n 'Parent',\n 'Released',\n 'Recorded',\n 'Venue',\n 'Length',\n 'Label',\n 'Director',\n 'Producer',\n 'Area',\n 'Coordinates',\n 'Status',\n 'Opening date',\n 'Closing date',\n 'Replaced',\n 'Replaced by',\n 'Name',\n 'Attraction type',\n 'Music',\n 'Duration',\n 'Simplified Chinese',\n 'Traditional Chinese',\n 'Hanyu Pinyin',\n 'Literal meaning',\n 'Transcriptions',\n 'Bopomofo',\n 'Gwoyeu Romatzyh',\n 'Wade–Giles',\n 'IPA',\n 'Yale Romanization',\n 'Jyutping',\n 'Hokkien POJ',\n 'Animation by',\n 'Color process',\n 'Engine(s)',\n 'Genre(s)',\n 'Actor control',\n 'Production company',\n 'Release(s)',\n 'Format(s)',\n 'Simplified',\n 'Characters',\n 'Date premiered',\n 'Place premiered',\n 'Setting',\n 'Original language',\n 'Subject',\n 'Published',\n 'Dewey Decimal',\n 'Text',\n 'Illustrator',\n 'Original title',\n 'Published in English',\n 'French',\n 'Developed by',\n 'Ending theme',\n 'No. of seasons',\n 'Nationality',\n 'Portrayed by',\n 'Alias',\n 'Species',\n 'Gender',\n 'Family',\n 'Alma mater',\n 'Camera setup',\n 'Novel(s)',\n 'Comics',\n 'Film(s)',\n 'Screen story by',\n 'Hangul',\n 'Revised Romanization',\n 'McCune–Reischauer',\n 'Developer(s)',\n 'Publisher(s)',\n 'Designer(s)',\n 'Programmer(s)',\n 'Artist(s)',\n 'Writer(s)',\n 'Engine',\n 'Platform(s)',\n 'Release',\n 'Mode(s)',\n 'Original work',\n 'Television series',\n 'Japanese',\n 'Hepburn',\n 'Literally',\n 'Cantonese',\n 'Full name',\n 'Height',\n 'Seasons',\n 'Chinese',\n 'Other names',\n 'Relatives',\n 'Yiddish',\n 'Formerly',\n 'Key people',\n 'Total assets',\n 'Owner',\n 'Number of employees',\n 'Divisions',\n 'Subsidiaries',\n 'Arabic',\n 'Romanized',\n 'Predecessor',\n 'Founders',\n 'Area served',\n 'Products',\n 'Services',\n 'Russian',\n 'Hebrew',\n 'Revenue',\n 'Operating income',\n 'Polish']"
     },
     "execution_count": 18,
     "metadata": {},
     "output_type": "execute_result"
    }
   ],
   "source": [
    "wiki_movies_df.columns.to_list()"
   ],
   "metadata": {
    "collapsed": false,
    "pycharm": {
     "name": "#%%\n"
    }
   }
  },
  {
   "cell_type": "code",
   "execution_count": 24,
   "outputs": [
    {
     "data": {
      "text/plain": "7076"
     },
     "execution_count": 24,
     "metadata": {},
     "output_type": "execute_result"
    }
   ],
   "source": [
    "#STEP a\n",
    "#require director and imdb link for records to be retained\n",
    "\n",
    "wiki_movies = [movie for movie in wiki_movies_raw if\n",
    "               ('Director' in movie or 'Directed by' in movie) and 'imdb_link' in movie and 'No. of episodes' not in movie]\n",
    "len(wiki_movies)"
   ],
   "metadata": {
    "collapsed": false,
    "pycharm": {
     "name": "#%%\n"
    }
   }
  },
  {
   "cell_type": "code",
   "execution_count": 28,
   "outputs": [],
   "source": [
    "#cleaned data version a\n",
    "wiki_movies_a = pd.DataFrame(wiki_movies)"
   ],
   "metadata": {
    "collapsed": false,
    "pycharm": {
     "name": "#%%\n"
    }
   }
  },
  {
   "cell_type": "code",
   "execution_count": 54,
   "outputs": [],
   "source": [
    "def clean_movie(movie):\n",
    "    movie = dict(movie) #creating a non-destructive copy\n",
    "    languages = ['Also known as','Arabic','Cantonese','Chinese','French','Hangul','Hebrew','Hepburn','Japanese','Literally','Mandarin','McCune-Reischauer','Original_Title','Polish','Revised Romanization','Romanized','Russian','Simplified','Traditional','Yiddish']\n",
    "    alternate_titles = {}\n",
    "\n",
    "    def change_column_name(old_name,new_name):\n",
    "        if old_name in movie:\n",
    "            movie[new_name] =  movie.pop(old_name)\n",
    "\n",
    "    for key in languages:\n",
    "        if key in movie:\n",
    "            alternate_titles[key]=movie.pop(key)\n",
    "            #movie.pop(col)\n",
    "    if len(alternate_titles) > 0:\n",
    "        movie['alternate_titles']=alternate_titles\n",
    "\n",
    "\n",
    "    def change_column_name(old_name,new_name):\n",
    "        if old_name in movie:\n",
    "            movie[new_name] =  movie.pop(old_name)\n",
    "\n",
    "    change_column_name('Directed by', 'Director')\n",
    "    change_column_name('Adaptation by', 'Writer(s)')\n",
    "    change_column_name('Country of origin', 'Country')\n",
    "    change_column_name('Directed by', 'Director')\n",
    "    change_column_name('Distributed by', 'Distributor')\n",
    "    change_column_name('Edited by', 'Editor(s)')\n",
    "    change_column_name('Produced by', 'Producer(s)')\n",
    "    change_column_name('Producer', 'Producer(s)')\n",
    "    change_column_name('Productioncompanies ', 'Production company(s)')\n",
    "    change_column_name('Productioncompany ', 'Production company(s)')\n",
    "    change_column_name('Released', 'Release date')\n",
    "    change_column_name('Length', 'Running time')\n",
    "    change_column_name('Screen story by', 'Writer(s)')\n",
    "    change_column_name('Screenplay by', 'Writer(s)')\n",
    "    change_column_name('Story by', 'Writer(s)')\n",
    "    change_column_name('Written by', 'Writer(s)')\n",
    "    change_column_name('Length', 'Running time')\n",
    "    change_column_name('Original release', 'Release date')\n",
    "    change_column_name('Theme music composer', 'Composer(s)')\n",
    "    change_column_name('Music by', 'Composer(s)')\n",
    "    change_column_name('Length', 'Running time')\n",
    "\n",
    "    return movie"
   ],
   "metadata": {
    "collapsed": false,
    "pycharm": {
     "name": "#%%\n"
    }
   }
  },
  {
   "cell_type": "code",
   "execution_count": 30,
   "outputs": [
    {
     "data": {
      "text/plain": "6834    https://en.wikipedia.org/wiki/The_Insult_(film)\n7058     https://en.wikipedia.org/wiki/Capernaum_(film)\nName: url, dtype: object"
     },
     "execution_count": 30,
     "metadata": {},
     "output_type": "execute_result"
    }
   ],
   "source": [
    "wiki_movies_a[wiki_movies_a['Arabic'].notnull()]['url']"
   ],
   "metadata": {
    "collapsed": false,
    "pycharm": {
     "name": "#%%\n"
    }
   }
  },
  {
   "cell_type": "code",
   "execution_count": 31,
   "outputs": [
    {
     "data": {
      "text/plain": "['Adaptation by',\n 'Also known as',\n 'Animation by',\n 'Arabic',\n 'Audio format',\n 'Based on',\n 'Box office',\n 'Budget',\n 'Cantonese',\n 'Chinese',\n 'Cinematography',\n 'Color process',\n 'Composer(s)',\n 'Country',\n 'Country of origin',\n 'Created by',\n 'Directed by',\n 'Director',\n 'Distributed by',\n 'Distributor',\n 'Edited by',\n 'Editor(s)',\n 'Executive producer(s)',\n 'Followed by',\n 'French',\n 'Genre',\n 'Hangul',\n 'Hebrew',\n 'Hepburn',\n 'Japanese',\n 'Label',\n 'Language',\n 'Length',\n 'Literally',\n 'Mandarin',\n 'McCune–Reischauer',\n 'Music by',\n 'Narrated by',\n 'Original language(s)',\n 'Original network',\n 'Original release',\n 'Original title',\n 'Picture format',\n 'Polish',\n 'Preceded by',\n 'Produced by',\n 'Producer',\n 'Producer(s)',\n 'Production company(s)',\n 'Production location(s)',\n 'Productioncompanies ',\n 'Productioncompany ',\n 'Recorded',\n 'Release date',\n 'Released',\n 'Revised Romanization',\n 'Romanized',\n 'Running time',\n 'Russian',\n 'Screen story by',\n 'Screenplay by',\n 'Simplified',\n 'Starring',\n 'Story by',\n 'Suggested by',\n 'Theme music composer',\n 'Traditional',\n 'Venue',\n 'Voices of',\n 'Written by',\n 'Yiddish',\n 'imdb_link',\n 'title',\n 'url',\n 'year']"
     },
     "execution_count": 31,
     "metadata": {},
     "output_type": "execute_result"
    }
   ],
   "source": [
    "sorted(wiki_movies_a.columns.to_list())"
   ],
   "metadata": {
    "collapsed": false,
    "pycharm": {
     "name": "#%%\n"
    }
   }
  },
  {
   "cell_type": "code",
   "execution_count": 37,
   "outputs": [
    {
     "data": {
      "text/plain": "858          喜宴\n1534       東宮西宮\n6456        葉問3\n6613         長城\n6661    我們誕生在中國\nName: Traditional, dtype: object"
     },
     "execution_count": 37,
     "metadata": {},
     "output_type": "execute_result"
    }
   ],
   "source": [
    "#investigating dataset for alternative title columns, ultimately to remove\n",
    "col_name='Traditional'\n",
    "wiki_movies_a[wiki_movies_a[col_name].notnull()][col_name]\n",
    "# languages = ['Arabic','Cantonese','Chinese','French','Hangul','Hebrew','Hepburn','Japanese','Literally','Mandarin','McCune-Reischauer','Original_Title','Polish','Revised Romanization','Romanized','Russian','Simplified','Traditional','Yiddish']"
   ],
   "metadata": {
    "collapsed": false,
    "pycharm": {
     "name": "#%%\n"
    }
   }
  },
  {
   "cell_type": "code",
   "execution_count": null,
   "outputs": [],
   "source": [],
   "metadata": {
    "collapsed": false,
    "pycharm": {
     "name": "#%%\n"
    }
   }
  },
  {
   "cell_type": "code",
   "execution_count": 55,
   "outputs": [],
   "source": [
    "#using the clean_movie function above (now updated to map column name changes)\n",
    "clean_movies = [clean_movie(movie) for movie in wiki_movies]"
   ],
   "metadata": {
    "collapsed": false,
    "pycharm": {
     "name": "#%%\n"
    }
   }
  },
  {
   "cell_type": "code",
   "execution_count": 56,
   "outputs": [
    {
     "data": {
      "text/plain": "['Animation by',\n 'Audio format',\n 'Based on',\n 'Box office',\n 'Budget',\n 'Cinematography',\n 'Color process',\n 'Composer(s)',\n 'Country',\n 'Created by',\n 'Director',\n 'Distributor',\n 'Editor(s)',\n 'Executive producer(s)',\n 'Followed by',\n 'Genre',\n 'Label',\n 'Language',\n 'McCune–Reischauer',\n 'Narrated by',\n 'Original language(s)',\n 'Original network',\n 'Original title',\n 'Picture format',\n 'Preceded by',\n 'Producer(s)',\n 'Production company(s)',\n 'Production location(s)',\n 'Recorded',\n 'Release date',\n 'Running time',\n 'Starring',\n 'Suggested by',\n 'Venue',\n 'Voices of',\n 'Writer(s)',\n 'alternate_titles',\n 'imdb_link',\n 'title',\n 'url',\n 'year']"
     },
     "execution_count": 56,
     "metadata": {},
     "output_type": "execute_result"
    }
   ],
   "source": [
    "#convert clean movies back to dataframe, then sort the columns\n",
    "wiki_movies_df = pd.DataFrame(clean_movies)\n",
    "sorted(wiki_movies_df.columns.to_list())"
   ],
   "metadata": {
    "collapsed": false,
    "pycharm": {
     "name": "#%%\n"
    }
   }
  },
  {
   "cell_type": "code",
   "execution_count": 60,
   "outputs": [
    {
     "name": "stdout",
     "output_type": "stream",
     "text": [
      "7076\n",
      "7033\n"
     ]
    },
    {
     "data": {
      "text/plain": "                                                 url  year  \\\n0  https://en.wikipedia.org/wiki/The_Adventures_o...  1990   \n1  https://en.wikipedia.org/wiki/After_Dark,_My_S...  1990   \n2   https://en.wikipedia.org/wiki/Air_America_(film)  1990   \n3    https://en.wikipedia.org/wiki/Alice_(1990_film)  1990   \n4      https://en.wikipedia.org/wiki/Almost_an_Angel  1990   \n\n                               imdb_link                            title  \\\n0  https://www.imdb.com/title/tt0098987/  The Adventures of Ford Fairlane   \n1  https://www.imdb.com/title/tt0098994/             After Dark, My Sweet   \n2  https://www.imdb.com/title/tt0099005/                      Air America   \n3  https://www.imdb.com/title/tt0099012/                            Alice   \n4  https://www.imdb.com/title/tt0099018/                  Almost an Angel   \n\n                                            Based on  \\\n0                        [Characters, by Rex Weiner]   \n1  [the novel, After Dark, My Sweet, by, Jim Thom...   \n2             [Air America, by, Christopher Robbins]   \n3                                                NaN   \n4                                                NaN   \n\n                                            Starring         Narrated by  \\\n0  [Andrew Dice Clay, Wayne Newton, Priscilla Pre...  Andrew \"Dice\" Clay   \n1  [Jason Patric, Rachel Ward, Bruce Dern, George...                 NaN   \n2  [Mel Gibson, Robert Downey Jr., Nancy Travis, ...                 NaN   \n3  [Alec Baldwin, Blythe Danner, Judy Davis, Mia ...                 NaN   \n4        [Paul Hogan, Elias Koteas, Linda Kozlowski]                 NaN   \n\n   Cinematography                                       Release date  \\\n0     Oliver Wood                  [July 11, 1990, (, 1990-07-11, )]   \n1    Mark Plummer  [May 17, 1990, (, 1990-05-17, ), (Cannes Film ...   \n2   Roger Deakins                [August 10, 1990, (, 1990-08-10, )]   \n3  Carlo Di Palma              [December 25, 1990, (, 1990-12-25, )]   \n4    Russell Boyd                                  December 19, 1990   \n\n  Running time  ... Suggested by alternate_titles Recorded Venue Label  \\\n0  102 minutes  ...          NaN              NaN      NaN   NaN   NaN   \n1  114 minutes  ...          NaN              NaN      NaN   NaN   NaN   \n2  113 minutes  ...          NaN              NaN      NaN   NaN   NaN   \n3  106 minutes  ...          NaN              NaN      NaN   NaN   NaN   \n4   95 minutes  ...          NaN              NaN      NaN   NaN   NaN   \n\n  Animation by Color process McCune–Reischauer Original title    imdb_id  \n0          NaN           NaN               NaN            NaN  tt0098987  \n1          NaN           NaN               NaN            NaN  tt0098994  \n2          NaN           NaN               NaN            NaN  tt0099005  \n3          NaN           NaN               NaN            NaN  tt0099012  \n4          NaN           NaN               NaN            NaN  tt0099018  \n\n[5 rows x 42 columns]",
      "text/html": "<div>\n<style scoped>\n    .dataframe tbody tr th:only-of-type {\n        vertical-align: middle;\n    }\n\n    .dataframe tbody tr th {\n        vertical-align: top;\n    }\n\n    .dataframe thead th {\n        text-align: right;\n    }\n</style>\n<table border=\"1\" class=\"dataframe\">\n  <thead>\n    <tr style=\"text-align: right;\">\n      <th></th>\n      <th>url</th>\n      <th>year</th>\n      <th>imdb_link</th>\n      <th>title</th>\n      <th>Based on</th>\n      <th>Starring</th>\n      <th>Narrated by</th>\n      <th>Cinematography</th>\n      <th>Release date</th>\n      <th>Running time</th>\n      <th>...</th>\n      <th>Suggested by</th>\n      <th>alternate_titles</th>\n      <th>Recorded</th>\n      <th>Venue</th>\n      <th>Label</th>\n      <th>Animation by</th>\n      <th>Color process</th>\n      <th>McCune–Reischauer</th>\n      <th>Original title</th>\n      <th>imdb_id</th>\n    </tr>\n  </thead>\n  <tbody>\n    <tr>\n      <th>0</th>\n      <td>https://en.wikipedia.org/wiki/The_Adventures_o...</td>\n      <td>1990</td>\n      <td>https://www.imdb.com/title/tt0098987/</td>\n      <td>The Adventures of Ford Fairlane</td>\n      <td>[Characters, by Rex Weiner]</td>\n      <td>[Andrew Dice Clay, Wayne Newton, Priscilla Pre...</td>\n      <td>Andrew \"Dice\" Clay</td>\n      <td>Oliver Wood</td>\n      <td>[July 11, 1990, (, 1990-07-11, )]</td>\n      <td>102 minutes</td>\n      <td>...</td>\n      <td>NaN</td>\n      <td>NaN</td>\n      <td>NaN</td>\n      <td>NaN</td>\n      <td>NaN</td>\n      <td>NaN</td>\n      <td>NaN</td>\n      <td>NaN</td>\n      <td>NaN</td>\n      <td>tt0098987</td>\n    </tr>\n    <tr>\n      <th>1</th>\n      <td>https://en.wikipedia.org/wiki/After_Dark,_My_S...</td>\n      <td>1990</td>\n      <td>https://www.imdb.com/title/tt0098994/</td>\n      <td>After Dark, My Sweet</td>\n      <td>[the novel, After Dark, My Sweet, by, Jim Thom...</td>\n      <td>[Jason Patric, Rachel Ward, Bruce Dern, George...</td>\n      <td>NaN</td>\n      <td>Mark Plummer</td>\n      <td>[May 17, 1990, (, 1990-05-17, ), (Cannes Film ...</td>\n      <td>114 minutes</td>\n      <td>...</td>\n      <td>NaN</td>\n      <td>NaN</td>\n      <td>NaN</td>\n      <td>NaN</td>\n      <td>NaN</td>\n      <td>NaN</td>\n      <td>NaN</td>\n      <td>NaN</td>\n      <td>NaN</td>\n      <td>tt0098994</td>\n    </tr>\n    <tr>\n      <th>2</th>\n      <td>https://en.wikipedia.org/wiki/Air_America_(film)</td>\n      <td>1990</td>\n      <td>https://www.imdb.com/title/tt0099005/</td>\n      <td>Air America</td>\n      <td>[Air America, by, Christopher Robbins]</td>\n      <td>[Mel Gibson, Robert Downey Jr., Nancy Travis, ...</td>\n      <td>NaN</td>\n      <td>Roger Deakins</td>\n      <td>[August 10, 1990, (, 1990-08-10, )]</td>\n      <td>113 minutes</td>\n      <td>...</td>\n      <td>NaN</td>\n      <td>NaN</td>\n      <td>NaN</td>\n      <td>NaN</td>\n      <td>NaN</td>\n      <td>NaN</td>\n      <td>NaN</td>\n      <td>NaN</td>\n      <td>NaN</td>\n      <td>tt0099005</td>\n    </tr>\n    <tr>\n      <th>3</th>\n      <td>https://en.wikipedia.org/wiki/Alice_(1990_film)</td>\n      <td>1990</td>\n      <td>https://www.imdb.com/title/tt0099012/</td>\n      <td>Alice</td>\n      <td>NaN</td>\n      <td>[Alec Baldwin, Blythe Danner, Judy Davis, Mia ...</td>\n      <td>NaN</td>\n      <td>Carlo Di Palma</td>\n      <td>[December 25, 1990, (, 1990-12-25, )]</td>\n      <td>106 minutes</td>\n      <td>...</td>\n      <td>NaN</td>\n      <td>NaN</td>\n      <td>NaN</td>\n      <td>NaN</td>\n      <td>NaN</td>\n      <td>NaN</td>\n      <td>NaN</td>\n      <td>NaN</td>\n      <td>NaN</td>\n      <td>tt0099012</td>\n    </tr>\n    <tr>\n      <th>4</th>\n      <td>https://en.wikipedia.org/wiki/Almost_an_Angel</td>\n      <td>1990</td>\n      <td>https://www.imdb.com/title/tt0099018/</td>\n      <td>Almost an Angel</td>\n      <td>NaN</td>\n      <td>[Paul Hogan, Elias Koteas, Linda Kozlowski]</td>\n      <td>NaN</td>\n      <td>Russell Boyd</td>\n      <td>December 19, 1990</td>\n      <td>95 minutes</td>\n      <td>...</td>\n      <td>NaN</td>\n      <td>NaN</td>\n      <td>NaN</td>\n      <td>NaN</td>\n      <td>NaN</td>\n      <td>NaN</td>\n      <td>NaN</td>\n      <td>NaN</td>\n      <td>NaN</td>\n      <td>tt0099018</td>\n    </tr>\n  </tbody>\n</table>\n<p>5 rows × 42 columns</p>\n</div>"
     },
     "execution_count": 60,
     "metadata": {},
     "output_type": "execute_result"
    }
   ],
   "source": [
    "#adding a new column to the frame, which will contain a unique id for each film, based\n",
    "#on the imdb_link column, then drop any columns that have a duplicate id (meaning movie\n",
    "#is contained more than once in the file)\n",
    "wiki_movies_df['imdb_id'] = wiki_movies_df['imdb_link'].str.extract(r'(tt\\d{7})')\n",
    "print(len(wiki_movies_df))\n",
    "wiki_movies_df.drop(columns=['imbd_id'],inplace=True)\n",
    "wiki_movies_df.drop_duplicates(subset='imdb_id',inplace=True)\n",
    "print(len(wiki_movies_df))\n",
    "wiki_movies_df.head()"
   ],
   "metadata": {
    "collapsed": false,
    "pycharm": {
     "name": "#%%\n"
    }
   }
  },
  {
   "cell_type": "code",
   "execution_count": 61,
   "outputs": [
    {
     "data": {
      "text/plain": "url                          0\nyear                         0\nimdb_link                    0\ntitle                        1\nBased on                  4852\nStarring                   184\nNarrated by               6752\nCinematography             691\nRelease date                32\nRunning time               139\nCountry                    236\nLanguage                   244\nBudget                    2295\nBox office                1548\nDirector                     0\nDistributor                357\nEditor(s)                  548\nProducer(s)                202\nProduction company(s)     1678\nWriter(s)                  199\nComposer(s)                518\nGenre                     6923\nOriginal language(s)      6875\nOriginal network          6908\nExecutive producer(s)     6936\nProduction location(s)    6986\nPicture format            6969\nAudio format              6972\nVoices of                 7031\nFollowed by               7024\nCreated by                7023\nPreceded by               7023\nSuggested by              7032\nalternate_titles          7013\nRecorded                  7031\nVenue                     7032\nLabel                     7031\nAnimation by              7031\nColor process             7032\nMcCune–Reischauer         7031\nOriginal title            7032\nimdb_id                      0\ndtype: int64"
     },
     "execution_count": 61,
     "metadata": {},
     "output_type": "execute_result"
    }
   ],
   "source": [
    "#count na values in each column\n",
    "wiki_movies_df.isna().sum().T"
   ],
   "metadata": {
    "collapsed": false,
    "pycharm": {
     "name": "#%%\n"
    }
   }
  },
  {
   "cell_type": "code",
   "execution_count": 75,
   "outputs": [],
   "source": [
    "#create list of columns to keep, based on 90% na threshold, and then set df equal to those cols only\n",
    "\n",
    "wiki_movies_df = wiki_movies_df.loc[:,(wiki_movies_df.isna().sum() < len(wiki_movies_df)*0.9).T]"
   ],
   "metadata": {
    "collapsed": false,
    "pycharm": {
     "name": "#%%\n"
    }
   }
  },
  {
   "cell_type": "code",
   "execution_count": 76,
   "outputs": [
    {
     "data": {
      "text/plain": "url                      object\nyear                      int64\nimdb_link                object\ntitle                    object\nBased on                 object\nStarring                 object\nCinematography           object\nRelease date             object\nRunning time             object\nCountry                  object\nLanguage                 object\nBudget                   object\nBox office               object\nDirector                 object\nDistributor              object\nEditor(s)                object\nProducer(s)              object\nProduction company(s)    object\nWriter(s)                object\nComposer(s)              object\nimdb_id                  object\ndtype: object"
     },
     "execution_count": 76,
     "metadata": {},
     "output_type": "execute_result"
    }
   ],
   "source": [
    "#next step in data cleaning is to check data type for all the 'cleaned' columns\n",
    "#and determine the correct type for each\n",
    "wiki_movies_df.dtypes"
   ],
   "metadata": {
    "collapsed": false,
    "pycharm": {
     "name": "#%%\n"
    }
   }
  },
  {
   "cell_type": "code",
   "execution_count": 77,
   "outputs": [],
   "source": [
    "#start with cols that should be numeric, which include box office, budget and running time\n",
    "#we also know release date should be a date object\n",
    "box_office = wiki_movies_df['Box office'].dropna()"
   ],
   "metadata": {
    "collapsed": false,
    "pycharm": {
     "name": "#%%\n"
    }
   }
  },
  {
   "cell_type": "code",
   "execution_count": 79,
   "outputs": [
    {
     "data": {
      "text/plain": "34                           [US$, 4,212,828]\n54      [$6,698,361 (, United States, ), [2]]\n74                    [$6,488,144, (US), [1]]\n126                [US$1,531,489, (domestic)]\n130                          [US$, 4,803,039]\n                        ...                  \n6980               [$99.6, million, [4], [5]]\n6994                   [$365.6, million, [1]]\n6995                         [$53.8, million]\n7015                     [$435, million, [7]]\n7048                   [$529.3, million, [4]]\nName: Box office, Length: 135, dtype: object"
     },
     "execution_count": 79,
     "metadata": {},
     "output_type": "execute_result"
    }
   ],
   "source": [
    "#first check how much non-na data we have\n",
    "len(box_office)\n",
    "#then write a function to determine how much of the existing box_office data is not in string format\n",
    "def is_not_a_string(x):\n",
    "    return type(x) != str\n",
    "\n",
    "#switch from using def is_not_a_string, to lambda, to simplify coding\n",
    "box_office[box_office.map(lambda x: type(x) != str)]"
   ],
   "metadata": {
    "collapsed": false,
    "pycharm": {
     "name": "#%%\n"
    }
   }
  },
  {
   "cell_type": "code",
   "execution_count": 80,
   "outputs": [
    {
     "data": {
      "text/plain": "0          $21.4 million\n1           $2.7 million\n2            $57,718,089\n3             $7,331,647\n4       $6,939,946 (USA)\n              ...       \n7070       $19.4 million\n7071       $41.9 million\n7072       $76.1 million\n7073       $38.4 million\n7074        $5.5 million\nName: Box office, Length: 5485, dtype: object"
     },
     "execution_count": 80,
     "metadata": {},
     "output_type": "execute_result"
    }
   ],
   "source": [
    "#convert list data in box_office to single string, where list exists\n",
    "box_office = box_office.apply(lambda x: ' '.join(x) if type(x) == list else x)\n",
    "box_office"
   ],
   "metadata": {
    "collapsed": false,
    "pycharm": {
     "name": "#%%\n"
    }
   }
  },
  {
   "cell_type": "code",
   "execution_count": 82,
   "outputs": [
    {
     "data": {
      "text/plain": "3319"
     },
     "execution_count": 82,
     "metadata": {},
     "output_type": "execute_result"
    }
   ],
   "source": [
    "#using regex to match box office amounts with the word m/billion, starting with $\n",
    "form_one=r'\\$\\d+\\.\\d*\\s*[mb]illion'\n",
    "box_office.str.contains(form_one,flags=re.I, na=False).sum()"
   ],
   "metadata": {
    "collapsed": false,
    "pycharm": {
     "name": "#%%\n"
    }
   }
  },
  {
   "cell_type": "code",
   "execution_count": 84,
   "outputs": [
    {
     "data": {
      "text/plain": "1544"
     },
     "execution_count": 84,
     "metadata": {},
     "output_type": "execute_result"
    }
   ],
   "source": [
    "form_two=r'\\$\\d{1,3}(?:,\\d{3})+'\n",
    "box_office.str.contains(form_two,flags=re.I,na=False).sum()"
   ],
   "metadata": {
    "collapsed": false,
    "pycharm": {
     "name": "#%%\n"
    }
   }
  },
  {
   "cell_type": "code",
   "execution_count": 87,
   "outputs": [
    {
     "data": {
      "text/plain": "29         $5 million\n34      US$ 4,212,828\n58       $240 million\n64        $86 million\n66        $25 million\n            ...      \n7035     $174 million\n7046      $76 million\n7051     $323 million\n7056      $43 million\n7067     $468 million\nName: Box office, Length: 623, dtype: object"
     },
     "execution_count": 87,
     "metadata": {},
     "output_type": "execute_result"
    }
   ],
   "source": [
    "matches_form_one = box_office.str.contains(form_one,flags=re.I,na=False)\n",
    "matches_form_two = box_office.str.contains(form_two,flags=re.I,na=False)\n",
    "box_office[(~ matches_form_one) & (~ matches_form_two)]"
   ],
   "metadata": {
    "collapsed": false,
    "pycharm": {
     "name": "#%%\n"
    }
   }
  },
  {
   "cell_type": "code",
   "execution_count": 99,
   "outputs": [],
   "source": [
    "#new forms to capture additional box office values\n",
    "form_one=r'\\$\\s\\d+\\.\\d*\\s*[mb]illion'\n",
    "form_two = r'\\$\\s*\\d{1,3}(?:[,\\.]\\d{3})+(?!\\s[mb]illion)'"
   ],
   "metadata": {
    "collapsed": false,
    "pycharm": {
     "name": "#%%\n"
    }
   }
  },
  {
   "cell_type": "code",
   "execution_count": 89,
   "outputs": [
    {
     "name": "stderr",
     "output_type": "stream",
     "text": [
      "C:\\Users\\Derek\\anaconda3\\envs\\PythonData\\lib\\site-packages\\pandas\\core\\strings\\object_array.py:156: FutureWarning: Possible set difference at position 6\n",
      "  pat = re.compile(pat, flags=flags)\n"
     ]
    }
   ],
   "source": [
    "#box office replace to correct range values into single numbers\n",
    "box_office = box_office.str.replace(r'\\$.*[---](?![a-z])', '$',regex=True)"
   ],
   "metadata": {
    "collapsed": false,
    "pycharm": {
     "name": "#%%\n"
    }
   }
  },
  {
   "cell_type": "code",
   "execution_count": 100,
   "outputs": [],
   "source": [
    "#capture misspelling of million by adding ?, to allow for multiple i's\n",
    "form_one = r'\\$\\s*\\d+\\.?\\d*\\s*[mb]illi?on'"
   ],
   "metadata": {
    "collapsed": false,
    "pycharm": {
     "name": "#%%\n"
    }
   }
  },
  {
   "cell_type": "code",
   "execution_count": 97,
   "outputs": [],
   "source": [
    "#create f string to combine forms and extract all\n",
    "box_office = box_office.str.replace(r'\\$.*[-—–](?![a-z])', '$', regex=True)"
   ],
   "metadata": {
    "collapsed": false,
    "pycharm": {
     "name": "#%%\n"
    }
   }
  },
  {
   "cell_type": "code",
   "execution_count": 105,
   "outputs": [
    {
     "data": {
      "text/plain": "0       $21.4 million\n1        $2.7 million\n2         $57,718,089\n3          $7,331,647\n4          $6,939,946\n            ...      \n7070    $19.4 million\n7071    $41.9 million\n7072    $76.1 million\n7073    $38.4 million\n7074     $5.5 million\nName: 0, Length: 5485, dtype: object"
     },
     "execution_count": 105,
     "metadata": {},
     "output_type": "execute_result"
    }
   ],
   "source": [
    "box_office.str.extract(f'({form_one}|{form_two})')[0]"
   ],
   "metadata": {
    "collapsed": false,
    "pycharm": {
     "name": "#%%\n"
    }
   }
  },
  {
   "cell_type": "code",
   "execution_count": 102,
   "outputs": [],
   "source": [
    "def parse_dollars(s):\n",
    "    # if s is not a string, return NaN\n",
    "    if type(s) != str:\n",
    "        return np.nan\n",
    "\n",
    "    # if input is of the form $###.# million\n",
    "    if re.match(r'\\$\\s*\\d+\\.?\\d*\\s*milli?on',s, flags = re.IGNORECASE):\n",
    "        # remove dollar sign and \" million\"\n",
    "        s = re.sub('\\$|\\s|[a-zA-Z]','',s)\n",
    "        # convert to float and multiply by a million\n",
    "        value = float(s) * 1e6\n",
    "        # return value\n",
    "        return value\n",
    "\n",
    "    # if input is of the form $###.# billion\n",
    "    elif re.match(r'\\$\\s\\d+\\.\\d*\\s*billion',s,flags = re.IGNORECASE):\n",
    "        # remove dollar sign and \" billion\"\n",
    "        s = re.sub('\\$|\\s|[a-zA-Z]','',s)\n",
    "        # convert to float and multiply by a billion\n",
    "        value = float(s) * 1e9\n",
    "        # return value\n",
    "        return value\n",
    "\n",
    "    # if input is of the form $###,###,###\n",
    "    elif re.match(r'\\$\\s*\\d{1,3}(?:[,\\.]\\d{3})+(?!\\s[mb]illion)',s,flags = re.IGNORECASE):\n",
    "        # remove dollar sign and commas\n",
    "        s = re.sub('\\$|\\s|[,\\.]','',s)\n",
    "        # convert to float\n",
    "        value = float(s)\n",
    "        # return value\n",
    "        return value\n",
    "    # otherwise, return NaN\n",
    "    else:\n",
    "        return np.nan"
   ],
   "metadata": {
    "collapsed": false,
    "pycharm": {
     "name": "#%%\n"
    }
   }
  },
  {
   "cell_type": "code",
   "execution_count": 108,
   "outputs": [
    {
     "name": "stderr",
     "output_type": "stream",
     "text": [
      "C:\\Users\\Derek\\anaconda3\\envs\\PythonData\\lib\\site-packages\\ipykernel_launcher.py:1: SettingWithCopyWarning: \n",
      "A value is trying to be set on a copy of a slice from a DataFrame.\n",
      "Try using .loc[row_indexer,col_indexer] = value instead\n",
      "\n",
      "See the caveats in the documentation: https://pandas.pydata.org/pandas-docs/stable/user_guide/indexing.html#returning-a-view-versus-a-copy\n",
      "  \"\"\"Entry point for launching an IPython kernel.\n"
     ]
    }
   ],
   "source": [
    "#apply the parse_dollars functions to the box_office series and add back to wiki_movies\n",
    "wiki_movies_df['box_office'] = box_office.str.extract(f'({form_one}|{form_two})',flags = re.IGNORECASE)[0].apply(parse_dollars)"
   ],
   "metadata": {
    "collapsed": false,
    "pycharm": {
     "name": "#%%\n"
    }
   }
  },
  {
   "cell_type": "code",
   "execution_count": 110,
   "outputs": [
    {
     "name": "stderr",
     "output_type": "stream",
     "text": [
      "C:\\Users\\Derek\\anaconda3\\envs\\PythonData\\lib\\site-packages\\pandas\\core\\frame.py:4913: SettingWithCopyWarning: \n",
      "A value is trying to be set on a copy of a slice from a DataFrame\n",
      "\n",
      "See the caveats in the documentation: https://pandas.pydata.org/pandas-docs/stable/user_guide/indexing.html#returning-a-view-versus-a-copy\n",
      "  errors=errors,\n"
     ]
    }
   ],
   "source": [
    "#since we've corrected Box office, into the new col, box_office, can drop original column\n",
    "wiki_movies_df.drop('Box office',axis=1,inplace=True)"
   ],
   "metadata": {
    "collapsed": false,
    "pycharm": {
     "name": "#%%\n"
    }
   }
  },
  {
   "cell_type": "code",
   "execution_count": 111,
   "outputs": [],
   "source": [
    "#prepare to repeat text manipulation on budget column\n",
    "budget = wiki_movies_df.Budget.dropna()"
   ],
   "metadata": {
    "collapsed": false,
    "pycharm": {
     "name": "#%%\n"
    }
   }
  },
  {
   "cell_type": "code",
   "execution_count": 113,
   "outputs": [
    {
     "data": {
      "text/plain": "0        $20 million\n1         $6 million\n2        $35 million\n3        $12 million\n4        $25 million\n            ...     \n7070    €4.3 million\n7071     $42 million\n7072     $60 million\n7073     $20 million\n7074      $9 million\nName: Budget, Length: 4738, dtype: object"
     },
     "execution_count": 113,
     "metadata": {},
     "output_type": "execute_result"
    }
   ],
   "source": [
    "#first step is to collapse any list data to a single string\n",
    "budget = budget.map(lambda x: ''.join(x) if type(x) == list else x)\n",
    "budget"
   ],
   "metadata": {
    "collapsed": false,
    "pycharm": {
     "name": "#%%\n"
    }
   }
  },
  {
   "cell_type": "code",
   "execution_count": 114,
   "outputs": [],
   "source": [
    "#next step is to drop the lower range of any budget entry (ex: 15-20 million) will drop the 15- and just keep 20\n",
    "budget = budget.str.replace(r'\\$.*[-—–](?![a-z])', '$', regex=True)"
   ],
   "metadata": {
    "collapsed": false,
    "pycharm": {
     "name": "#%%\n"
    }
   }
  },
  {
   "cell_type": "code",
   "execution_count": 115,
   "outputs": [
    {
     "data": {
      "text/plain": "136                        Unknown\n204     60 millionNorwegian Kroner\n478                        Unknown\n973               $34[3][4]million\n1126                $120[4]million\n1226                       Unknown\n1278                           HBO\n1374                    £6,000,000\n1397                    13 million\n1480                  £2.8 million\n1734                  CAD2,000,000\n1913     PHP85 million (estimated)\n1948                   102,888,900\n1953                  3,500,000 DM\n1973                    ₤2,300,874\n2281                    $14 milion\n2451                    ₤6,350,000\n3144                   €40 million\n3360                $150[6]million\n3418                       $218.32\n3802                  £4.2 million\n3906                           N/A\n3959                   760,000 USD\n4470                      19 crore\n4641                   £17 million\n5034               $$200[4]million\n5055             $155[2][3]million\n5419                 $40[4]million\n5424                           N/A\n5447                    £4 million\n5671                   €14 million\n5687                  $ dead link]\n6385                £12 million[3]\n6593                    £3 million\n6821                 £12.9 million\n6843                     3.5 crore\n6895                       919,000\n7070                  €4.3 million\nName: Budget, dtype: object"
     },
     "execution_count": 115,
     "metadata": {},
     "output_type": "execute_result"
    }
   ],
   "source": [
    "#use existing pattern matches created for box office, on budget\n",
    "matches_form_one = budget.str.contains(form_one, flags=re.I, na=False)\n",
    "matches_form_two = budget.str.contains(form_two, flags=re.I, na=False)\n",
    "budget[(~ matches_form_one) & (~ matches_form_two)]"
   ],
   "metadata": {
    "collapsed": false,
    "pycharm": {
     "name": "#%%\n"
    }
   }
  },
  {
   "cell_type": "code",
   "execution_count": 116,
   "outputs": [
    {
     "name": "stderr",
     "output_type": "stream",
     "text": [
      "C:\\Users\\Derek\\anaconda3\\envs\\PythonData\\lib\\site-packages\\ipykernel_launcher.py:2: FutureWarning: The default value of regex will change from True to False in a future version.\n",
      "  \n"
     ]
    },
    {
     "data": {
      "text/plain": "136                        Unknown\n204     60 millionNorwegian Kroner\n478                        Unknown\n973                     $34million\n1126                   $120million\n1226                       Unknown\n1278                           HBO\n1374                    £6,000,000\n1397                    13 million\n1480                  £2.8 million\n1734                  CAD2,000,000\n1913     PHP85 million (estimated)\n1948                   102,888,900\n1953                  3,500,000 DM\n1973                    ₤2,300,874\n2281                    $14 milion\n2451                    ₤6,350,000\n3144                   €40 million\n3360                   $150million\n3418                       $218.32\n3802                  £4.2 million\n3906                           N/A\n3959                   760,000 USD\n4470                      19 crore\n4641                   £17 million\n5034                  $$200million\n5055                   $155million\n5419                    $40million\n5424                           N/A\n5447                    £4 million\n5671                   €14 million\n5687                  $ dead link]\n6385                   £12 million\n6593                    £3 million\n6821                 £12.9 million\n6843                     3.5 crore\n6895                       919,000\n7070                  €4.3 million\nName: Budget, dtype: object"
     },
     "execution_count": 116,
     "metadata": {},
     "output_type": "execute_result"
    }
   ],
   "source": [
    "#removing citation references:\n",
    "budget = budget.str.replace(r'\\[\\d+\\]\\s*','')\n",
    "budget[~matches_form_one & ~matches_form_two]"
   ],
   "metadata": {
    "collapsed": false,
    "pycharm": {
     "name": "#%%\n"
    }
   }
  },
  {
   "cell_type": "code",
   "execution_count": 120,
   "outputs": [
    {
     "name": "stderr",
     "output_type": "stream",
     "text": [
      "C:\\Users\\Derek\\anaconda3\\envs\\PythonData\\lib\\site-packages\\ipykernel_launcher.py:2: SettingWithCopyWarning: \n",
      "A value is trying to be set on a copy of a slice from a DataFrame.\n",
      "Try using .loc[row_indexer,col_indexer] = value instead\n",
      "\n",
      "See the caveats in the documentation: https://pandas.pydata.org/pandas-docs/stable/user_guide/indexing.html#returning-a-view-versus-a-copy\n",
      "  \n",
      "C:\\Users\\Derek\\anaconda3\\envs\\PythonData\\lib\\site-packages\\pandas\\core\\frame.py:4913: SettingWithCopyWarning: \n",
      "A value is trying to be set on a copy of a slice from a DataFrame\n",
      "\n",
      "See the caveats in the documentation: https://pandas.pydata.org/pandas-docs/stable/user_guide/indexing.html#returning-a-view-versus-a-copy\n",
      "  errors=errors,\n"
     ]
    }
   ],
   "source": [
    "#small number of unprocessed records remain, which we can ignore, so can add new column and drop the original\n",
    "wiki_movies_df['budget'] = budget.str.extract(f'({form_one}|{form_two})', flags=re.IGNORECASE)[0].apply(parse_dollars)\n",
    "\n",
    "wiki_movies_df.drop('Budget', axis=1, inplace=True)"
   ],
   "metadata": {
    "collapsed": false,
    "pycharm": {
     "name": "#%%\n"
    }
   }
  },
  {
   "cell_type": "code",
   "execution_count": 170,
   "outputs": [],
   "source": [
    "#moving on to the release date column, we start by running same list collapsing function\n",
    "release_date = wiki_movies_df['Release date'].dropna().apply(lambda x: ' '.join(x) if type(x) == list else x)"
   ],
   "metadata": {
    "collapsed": false,
    "pycharm": {
     "name": "#%%\n"
    }
   }
  },
  {
   "cell_type": "code",
   "execution_count": 165,
   "outputs": [
    {
     "data": {
      "text/plain": "0                            July 11, 1990 ( 1990-07-11 )\n1       May 17, 1990 ( 1990-05-17 ) (Cannes Film Marke...\n2                          August 10, 1990 ( 1990-08-10 )\n3                        December 25, 1990 ( 1990-12-25 )\n4                                       December 19, 1990\n5                           March 22, 1990 ( 1990-03-22 )\n6       October 6, 1990 ( 1990-10-06 ) ( New York Film...\n7                            March 8, 1991 ( 1991-03-08 )\n8                            March 7, 1990 ( 1990-03-07 )\n9                               February 23, 1990 ( USA )\n7066    November 26, 2018 ( 2018-11-26 ) ( Empire, Lei...\n7067    December 3, 2018 ( 2018-12-03 ) ( Sony Center ...\n7068     December 21, 2018 ( 2018-12-21 ) (United States)\n7069     December 21, 2018 ( 2018-12-21 ) (United States)\n7070    10 May 2018 ( 2018-05-10 ) ( Cannes ) 8 June 2...\n7071     December 25, 2018 ( 2018-12-25 ) (United States)\n7072    December 11, 2018 ( 2018-12-11 ) ( Samuel Gold...\n7073    November 8, 2018 ( 2018-11-08 ) ( AFI Fest ) D...\n7074    August 31, 2018 ( 2018-08-31 ) ( Telluride ) D...\n7075                      28 December 2018 ( 2018-12-28 )\n2124    September 11, 1998 ( 1998-09-11 ) ( TIFF ) Jan...\n1110                     November 18, 1994 ( 1994-11-18 )\n6514    May 22, 2016 ( 2016-05-22 ) ( Madison Square G...\n6507    May 12, 2016 ( 2016-05-12 ) ( Cannes ) May 13,...\n7030    5 October 2018 ( 2018-10-05 ) ( United Kingdom...\n6559    September 11, 2016 ( 2016-09-11 ) ( TIFF ) Sep...\n6639    March 22, 2017 ( 2017-03-22 ) ( Regency Villag...\n3415                         July 25, 2003 ( 2003-07-25 )\n6702    June 26, 2017 ( 2017-06-26 ) ( TCL Chinese The...\n4812                         July 31, 2009 ( 2009-07-31 )\nName: Release date, dtype: object"
     },
     "execution_count": 165,
     "metadata": {},
     "output_type": "execute_result"
    }
   ],
   "source": [
    "# Full month name, one- to two-digit day, four-digit year (i.e., January 1, 2000)\n",
    "# Four-digit year, two-digit month, two-digit day, with any separator (i.e., 2000-01-01)\n",
    "# Full month name, four-digit year (i.e., January 2000)\n",
    "# Four-digit year\n",
    "pd.concat([release_date.head(10),release_date.tail(10),release_date.iloc[list(np.random.randint(11,7001,10))]])"
   ],
   "metadata": {
    "collapsed": false,
    "pycharm": {
     "name": "#%%\n"
    }
   }
  },
  {
   "cell_type": "code",
   "execution_count": 171,
   "outputs": [],
   "source": [
    "#create four regex forms for date recognition in text strings, per above params\n",
    "date_form_one = r'\\w*\\s\\d{1,2}.{2}\\d{4}'\n",
    "date_form_two = r'\\d{4}.\\d{2}.\\d{2}'\n",
    "date_form_three = r'[A-Za-z]+.\\d{4}'\n",
    "date_form_four = r'\\s{d4}\\s'\n",
    "date_form_one = r'(?:January|February|March|April|May|June|July|August|September|October|November|December)\\s[123]?\\d,\\s\\d{4}'\n",
    "date_form_two = r'\\d{4}.[01]\\d.[0123]\\d'\n",
    "date_form_three = r'(?:January|February|March|April|May|June|July|August|September|October|November|December)\\s\\d{4}'\n",
    "date_form_four = r'\\d{4}'"
   ],
   "metadata": {
    "collapsed": false,
    "pycharm": {
     "name": "#%%\n"
    }
   }
  },
  {
   "cell_type": "code",
   "execution_count": 172,
   "outputs": [
    {
     "data": {
      "text/plain": "                      0\n0         July 11, 1990\n1          May 17, 1990\n2       August 10, 1990\n3     December 25, 1990\n4     December 19, 1990\n...                 ...\n7071  December 25, 2018\n7072  December 11, 2018\n7073   November 8, 2018\n7074    August 31, 2018\n7075      December 2018\n\n[7001 rows x 1 columns]",
      "text/html": "<div>\n<style scoped>\n    .dataframe tbody tr th:only-of-type {\n        vertical-align: middle;\n    }\n\n    .dataframe tbody tr th {\n        vertical-align: top;\n    }\n\n    .dataframe thead th {\n        text-align: right;\n    }\n</style>\n<table border=\"1\" class=\"dataframe\">\n  <thead>\n    <tr style=\"text-align: right;\">\n      <th></th>\n      <th>0</th>\n    </tr>\n  </thead>\n  <tbody>\n    <tr>\n      <th>0</th>\n      <td>July 11, 1990</td>\n    </tr>\n    <tr>\n      <th>1</th>\n      <td>May 17, 1990</td>\n    </tr>\n    <tr>\n      <th>2</th>\n      <td>August 10, 1990</td>\n    </tr>\n    <tr>\n      <th>3</th>\n      <td>December 25, 1990</td>\n    </tr>\n    <tr>\n      <th>4</th>\n      <td>December 19, 1990</td>\n    </tr>\n    <tr>\n      <th>...</th>\n      <td>...</td>\n    </tr>\n    <tr>\n      <th>7071</th>\n      <td>December 25, 2018</td>\n    </tr>\n    <tr>\n      <th>7072</th>\n      <td>December 11, 2018</td>\n    </tr>\n    <tr>\n      <th>7073</th>\n      <td>November 8, 2018</td>\n    </tr>\n    <tr>\n      <th>7074</th>\n      <td>August 31, 2018</td>\n    </tr>\n    <tr>\n      <th>7075</th>\n      <td>December 2018</td>\n    </tr>\n  </tbody>\n</table>\n<p>7001 rows × 1 columns</p>\n</div>"
     },
     "execution_count": 172,
     "metadata": {},
     "output_type": "execute_result"
    }
   ],
   "source": [
    "#review results using date form extrators\n",
    "release_date.str.extract(f'({date_form_one}|{date_form_two}|{date_form_three}|{date_form_four})', flags = re.IGNORECASE)"
   ],
   "metadata": {
    "collapsed": false,
    "pycharm": {
     "name": "#%%\n"
    }
   }
  },
  {
   "cell_type": "code",
   "execution_count": 173,
   "outputs": [],
   "source": [
    "#create new release_date column using date form extractors, with pd.to_datetime as the converter\n",
    "wiki_movies_df['release_date'] = pd.to_datetime(release_date.str.extract(f'({date_form_one}|{date_form_two}|{date_form_three}|{date_form_four})', flags = re.IGNORECASE)[0],infer_datetime_format=True)"
   ],
   "metadata": {
    "collapsed": false,
    "pycharm": {
     "name": "#%%\n"
    }
   }
  },
  {
   "cell_type": "code",
   "execution_count": 169,
   "outputs": [
    {
     "data": {
      "text/plain": "3067    United States:2002:08, July 17, 2002 (9) ( 200...\nName: Release date, dtype: object"
     },
     "execution_count": 169,
     "metadata": {},
     "output_type": "execute_result"
    }
   ],
   "source": [
    "#find source of initial error from above, which was: ParserError: bad month number 22; must be 1-12:  22, 1995\n",
    "#release_date[release_date.str.contains('22, 1995')]\n",
    "release_date[release_date.str.contains('States:2002')]"
   ],
   "metadata": {
    "collapsed": false,
    "pycharm": {
     "name": "#%%\n"
    }
   }
  },
  {
   "cell_type": "code",
   "execution_count": 166,
   "outputs": [],
   "source": [
    "#error source was launch day range may 21 - 22, 1995, so will find/replace '21 - ' with empty string\n",
    "release_date = release_date.str.replace(r'(\\s\\d{1,2}.[-—–])(?![a-z][0-9])+\\s[A-Za-z]*','',regex=True)"
   ],
   "metadata": {
    "collapsed": false,
    "pycharm": {
     "name": "#%%\n"
    }
   }
  },
  {
   "cell_type": "code",
   "execution_count": 175,
   "outputs": [],
   "source": [
    "running_time = wiki_movies_df['Running time'].dropna().apply(lambda x: ' '.join(x) if type(x) == list else x)"
   ],
   "metadata": {
    "collapsed": false,
    "pycharm": {
     "name": "#%%\n"
    }
   }
  },
  {
   "cell_type": "code",
   "execution_count": 180,
   "outputs": [
    {
     "data": {
      "text/plain": "6891"
     },
     "execution_count": 180,
     "metadata": {},
     "output_type": "execute_result"
    }
   ],
   "source": [
    "running_time.str.contains(r'\\d*\\s*m', flags=re.IGNORECASE, na=False).sum()"
   ],
   "metadata": {
    "collapsed": false,
    "pycharm": {
     "name": "#%%\n"
    }
   }
  },
  {
   "cell_type": "code",
   "execution_count": 181,
   "outputs": [
    {
     "data": {
      "text/plain": "1347    25 : 03\n1551     varies\n3925    4 hours\nName: Running time, dtype: object"
     },
     "execution_count": 181,
     "metadata": {},
     "output_type": "execute_result"
    }
   ],
   "source": [
    "running_time[running_time.str.contains(r'\\d*\\s*m', flags=re.IGNORECASE, na=False)!=True]"
   ],
   "metadata": {
    "collapsed": false,
    "pycharm": {
     "name": "#%%\n"
    }
   }
  },
  {
   "cell_type": "code",
   "execution_count": 182,
   "outputs": [],
   "source": [
    "#extract the digits for running time:\n",
    "running_time_extract = running_time.str.extract(r'(\\d+)\\s*ho?u?r?s?\\s*(\\d*)|(\\d+)\\s*m')"
   ],
   "metadata": {
    "collapsed": false,
    "pycharm": {
     "name": "#%%\n"
    }
   }
  },
  {
   "cell_type": "code",
   "execution_count": 184,
   "outputs": [],
   "source": [
    "#convert running time extract strings (all extracted as string) to numeric.  using errors=coerce forces non numbers to get converted to nan. adding fillna(0) converts the generated nan to zeros\n",
    "running_time_extract = running_time_extract.apply(lambda col: pd.to_numeric(col, errors='coerce')).fillna(0)"
   ],
   "metadata": {
    "collapsed": false,
    "pycharm": {
     "name": "#%%\n"
    }
   }
  },
  {
   "cell_type": "code",
   "execution_count": 185,
   "outputs": [],
   "source": [
    "#adding a converter to change hours to minutes and adding an minutes to hours to get total minute value\n",
    "wiki_movies_df['running_time'] = running_time_extract.apply(lambda row: row[0]*60 + row[1] if row[2] == 0 else row[2], axis=1)"
   ],
   "metadata": {
    "collapsed": false,
    "pycharm": {
     "name": "#%%\n"
    }
   }
  },
  {
   "cell_type": "code",
   "execution_count": 187,
   "outputs": [],
   "source": [
    "#drop the original running time column\n",
    "wiki_movies_df.drop('Running time', axis=1, inplace=True)"
   ],
   "metadata": {
    "collapsed": false,
    "pycharm": {
     "name": "#%%\n"
    }
   }
  },
  {
   "cell_type": "code",
   "execution_count": 188,
   "outputs": [
    {
     "data": {
      "text/plain": "adult                     object\nbelongs_to_collection     object\nbudget                    object\ngenres                    object\nhomepage                  object\nid                        object\nimdb_id                   object\noriginal_language         object\noriginal_title            object\noverview                  object\npopularity                object\nposter_path               object\nproduction_companies      object\nproduction_countries      object\nrelease_date              object\nrevenue                  float64\nruntime                  float64\nspoken_languages          object\nstatus                    object\ntagline                   object\ntitle                     object\nvideo                     object\nvote_average             float64\nvote_count               float64\ndtype: object"
     },
     "execution_count": 188,
     "metadata": {},
     "output_type": "execute_result"
    }
   ],
   "source": [
    "#start cleaning kaggle data\n",
    "kaggle_metadata.dtypes"
   ],
   "metadata": {
    "collapsed": false,
    "pycharm": {
     "name": "#%%\n"
    }
   }
  },
  {
   "cell_type": "code",
   "execution_count": 190,
   "outputs": [
    {
     "data": {
      "text/plain": "False                                                                                                                             45454\nTrue                                                                                                                                  9\n - Written by Ørnås                                                                                                                   1\n Rune Balot goes to a casino connected to the October corporation to try to wrap up her case once and for all.                        1\n Avalanche Sharks tells the story of a bikini contest that turns into a horrifying affair when it is hit by a shark avalanche.        1\nName: adult, dtype: int64"
     },
     "execution_count": 190,
     "metadata": {},
     "output_type": "execute_result"
    }
   ],
   "source": [
    "kaggle_metadata.adult.value_counts()"
   ],
   "metadata": {
    "collapsed": false,
    "pycharm": {
     "name": "#%%\n"
    }
   }
  },
  {
   "cell_type": "code",
   "execution_count": 195,
   "outputs": [
    {
     "ename": "AttributeError",
     "evalue": "'DataFrame' object has no attribute 'adult'",
     "output_type": "error",
     "traceback": [
      "\u001B[1;31m---------------------------------------------------------------------------\u001B[0m",
      "\u001B[1;31mAttributeError\u001B[0m                            Traceback (most recent call last)",
      "\u001B[1;32m~\\AppData\\Local\\Temp\\ipykernel_20344\\452734681.py\u001B[0m in \u001B[0;36m<module>\u001B[1;34m\u001B[0m\n\u001B[1;32m----> 1\u001B[1;33m \u001B[0mkaggle_metadata\u001B[0m\u001B[1;33m[\u001B[0m\u001B[1;33m~\u001B[0m\u001B[0mkaggle_metadata\u001B[0m\u001B[1;33m.\u001B[0m\u001B[0madult\u001B[0m\u001B[1;33m.\u001B[0m\u001B[0misin\u001B[0m\u001B[1;33m(\u001B[0m\u001B[1;33m[\u001B[0m\u001B[1;34m'False'\u001B[0m\u001B[1;33m,\u001B[0m\u001B[1;34m'True'\u001B[0m\u001B[1;33m]\u001B[0m\u001B[1;33m)\u001B[0m\u001B[1;33m]\u001B[0m\u001B[1;33m\u001B[0m\u001B[1;33m\u001B[0m\u001B[0m\n\u001B[0m",
      "\u001B[1;32m~\\anaconda3\\envs\\PythonData\\lib\\site-packages\\pandas\\core\\generic.py\u001B[0m in \u001B[0;36m__getattr__\u001B[1;34m(self, name)\u001B[0m\n\u001B[0;32m   5485\u001B[0m         ):\n\u001B[0;32m   5486\u001B[0m             \u001B[1;32mreturn\u001B[0m \u001B[0mself\u001B[0m\u001B[1;33m[\u001B[0m\u001B[0mname\u001B[0m\u001B[1;33m]\u001B[0m\u001B[1;33m\u001B[0m\u001B[1;33m\u001B[0m\u001B[0m\n\u001B[1;32m-> 5487\u001B[1;33m         \u001B[1;32mreturn\u001B[0m \u001B[0mobject\u001B[0m\u001B[1;33m.\u001B[0m\u001B[0m__getattribute__\u001B[0m\u001B[1;33m(\u001B[0m\u001B[0mself\u001B[0m\u001B[1;33m,\u001B[0m \u001B[0mname\u001B[0m\u001B[1;33m)\u001B[0m\u001B[1;33m\u001B[0m\u001B[1;33m\u001B[0m\u001B[0m\n\u001B[0m\u001B[0;32m   5488\u001B[0m \u001B[1;33m\u001B[0m\u001B[0m\n\u001B[0;32m   5489\u001B[0m     \u001B[1;32mdef\u001B[0m \u001B[0m__setattr__\u001B[0m\u001B[1;33m(\u001B[0m\u001B[0mself\u001B[0m\u001B[1;33m,\u001B[0m \u001B[0mname\u001B[0m\u001B[1;33m:\u001B[0m \u001B[0mstr\u001B[0m\u001B[1;33m,\u001B[0m \u001B[0mvalue\u001B[0m\u001B[1;33m)\u001B[0m \u001B[1;33m->\u001B[0m \u001B[1;32mNone\u001B[0m\u001B[1;33m:\u001B[0m\u001B[1;33m\u001B[0m\u001B[1;33m\u001B[0m\u001B[0m\n",
      "\u001B[1;31mAttributeError\u001B[0m: 'DataFrame' object has no attribute 'adult'"
     ]
    }
   ],
   "source": [
    "#check for non-boolean in adult column\n",
    "kaggle_metadata[~kaggle_metadata.adult.isin(['False','True'])]"
   ],
   "metadata": {
    "collapsed": false,
    "pycharm": {
     "name": "#%%\n"
    }
   }
  },
  {
   "cell_type": "code",
   "execution_count": 194,
   "outputs": [],
   "source": [
    "#filter out any adult rows and then drop the adult column\n",
    "kaggle_metadata = kaggle_metadata[kaggle_metadata['adult'] == 'False'].drop('adult',axis='columns')"
   ],
   "metadata": {
    "collapsed": false,
    "pycharm": {
     "name": "#%%\n"
    }
   }
  },
  {
   "cell_type": "code",
   "execution_count": 196,
   "outputs": [
    {
     "data": {
      "text/plain": "False    45358\nTrue        93\nName: video, dtype: int64"
     },
     "execution_count": 196,
     "metadata": {},
     "output_type": "execute_result"
    }
   ],
   "source": [
    "kaggle_metadata['video'].value_counts()"
   ],
   "metadata": {
    "collapsed": false,
    "pycharm": {
     "name": "#%%\n"
    }
   }
  },
  {
   "cell_type": "code",
   "execution_count": 197,
   "outputs": [],
   "source": [
    "#convert boolean string to boolean value. check if text is 'True'\n",
    "kaggle_metadata['video'] = kaggle_metadata['video'] == 'True'"
   ],
   "metadata": {
    "collapsed": false,
    "pycharm": {
     "name": "#%%\n"
    }
   }
  },
  {
   "cell_type": "code",
   "execution_count": 198,
   "outputs": [],
   "source": [
    "#convert numeric columns:\n",
    "kaggle_metadata['budget'] = kaggle_metadata['budget'].astype(int)\n",
    "kaggle_metadata['id'] = pd.to_numeric(kaggle_metadata['id'], errors='raise')\n",
    "kaggle_metadata['popularity'] = pd.to_numeric(kaggle_metadata['popularity'], errors='raise')"
   ],
   "metadata": {
    "collapsed": false,
    "pycharm": {
     "name": "#%%\n"
    }
   }
  },
  {
   "cell_type": "code",
   "execution_count": 199,
   "outputs": [],
   "source": [
    "#convert date column to pd datetime\n",
    "kaggle_metadata['release_date'] = pd.to_datetime(kaggle_metadata['release_date'])"
   ],
   "metadata": {
    "collapsed": false,
    "pycharm": {
     "name": "#%%\n"
    }
   }
  },
  {
   "cell_type": "code",
   "execution_count": 200,
   "outputs": [
    {
     "name": "stderr",
     "output_type": "stream",
     "text": [
      "C:\\Users\\Derek\\anaconda3\\envs\\PythonData\\lib\\site-packages\\ipykernel_launcher.py:2: FutureWarning: null_counts is deprecated. Use show_counts instead\n",
      "  \n"
     ]
    },
    {
     "name": "stdout",
     "output_type": "stream",
     "text": [
      "<class 'pandas.core.frame.DataFrame'>\n",
      "RangeIndex: 26024289 entries, 0 to 26024288\n",
      "Data columns (total 4 columns):\n",
      " #   Column     Non-Null Count     Dtype  \n",
      "---  ------     --------------     -----  \n",
      " 0   userId     26024289 non-null  int64  \n",
      " 1   movieId    26024289 non-null  int64  \n",
      " 2   rating     26024289 non-null  float64\n",
      " 3   timestamp  26024289 non-null  int64  \n",
      "dtypes: float64(1), int64(3)\n",
      "memory usage: 794.2 MB\n"
     ]
    }
   ],
   "source": [
    "#run some reasonability checks:\n",
    "ratings.info(null_counts=True)"
   ],
   "metadata": {
    "collapsed": false,
    "pycharm": {
     "name": "#%%\n"
    }
   }
  },
  {
   "cell_type": "code",
   "execution_count": 201,
   "outputs": [
    {
     "data": {
      "text/plain": "0          2015-03-09 22:52:09\n1          2015-03-09 23:07:15\n2          2015-03-09 22:52:03\n3          2015-03-09 22:52:26\n4          2015-03-09 22:52:36\n                   ...        \n26024284   2009-10-31 23:26:04\n26024285   2009-10-31 23:33:52\n26024286   2009-10-31 23:29:24\n26024287   2009-11-01 00:06:30\n26024288   2009-10-31 23:30:58\nName: timestamp, Length: 26024289, dtype: datetime64[ns]"
     },
     "execution_count": 201,
     "metadata": {},
     "output_type": "execute_result"
    }
   ],
   "source": [
    "pd.to_datetime(ratings['timestamp'], unit='s')"
   ],
   "metadata": {
    "collapsed": false,
    "pycharm": {
     "name": "#%%\n"
    }
   }
  },
  {
   "cell_type": "code",
   "execution_count": 202,
   "outputs": [],
   "source": [
    "#check of dates looks ok, so convert column\n",
    "ratings['timestamp'] = pd.to_datetime(ratings['timestamp'], unit='s')"
   ],
   "metadata": {
    "collapsed": false,
    "pycharm": {
     "name": "#%%\n"
    }
   }
  },
  {
   "cell_type": "code",
   "execution_count": 203,
   "outputs": [
    {
     "data": {
      "text/plain": "count          26,024,289.00\nmean                    3.53\nstd                     1.07\nmin                     0.50\n25%                     3.00\n50%                     3.50\n75%                     4.00\nmax                     5.00\nName: rating, dtype: float64"
     },
     "execution_count": 203,
     "metadata": {},
     "output_type": "execute_result"
    },
    {
     "data": {
      "text/plain": "<Figure size 432x288 with 1 Axes>",
      "image/png": "[encoded data removed]"
     },
     "metadata": {
      "needs_background": "light"
     },
     "output_type": "display_data"
    }
   ],
   "source": [
    "#create histogram to quickly get a sense of how ratings are distributed and see if anything looks really odd...\n",
    "pd.options.display.float_format = '{:20,.2f}'.format\n",
    "ratings['rating'].plot(kind='hist')\n",
    "ratings['rating'].describe()"
   ],
   "metadata": {
    "collapsed": false,
    "pycharm": {
     "name": "#%%\n"
    }
   }
  },
  {
   "cell_type": "code",
   "execution_count": null,
   "outputs": [],
   "source": [],
   "metadata": {
    "collapsed": false,
    "pycharm": {
     "name": "#%%\n"
    }
   }
  }
 ],
 "metadata": {
  "kernelspec": {
   "display_name": "Python 3",
   "language": "python",
   "name": "python3"
  },
  "language_info": {
   "codemirror_mode": {
    "name": "ipython",
    "version": 2
   },
   "file_extension": ".py",
   "mimetype": "text/x-python",
   "name": "python",
   "nbconvert_exporter": "python",
   "pygments_lexer": "ipython2",
   "version": "2.7.6"
  }
 },
 "nbformat": 4,
 "nbformat_minor": 0
}